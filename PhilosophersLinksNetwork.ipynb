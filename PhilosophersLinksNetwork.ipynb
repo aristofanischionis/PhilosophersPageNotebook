{
 "cells": [
  {
   "cell_type": "code",
   "execution_count": 1,
   "metadata": {},
   "outputs": [],
   "source": [
    "# Import libraries\n",
    "import pandas as pd\n",
    "import numpy as np\n",
    "import matplotlib.pyplot as plt\n",
    "import networkx as nx\n",
    "import seaborn as sns\n",
    "import powerlaw"
   ]
  },
  {
   "cell_type": "markdown",
   "metadata": {},
   "source": [
    "# The network of philosophers\n",
    "\n"
   ]
  },
  {
   "cell_type": "markdown",
   "metadata": {},
   "source": [
    "The following notebook has the scope to build the **network of the philosophers**, a network to visualize the relations between philosophers.\n",
    "\n",
    "## Motivation\n",
    "\n",
    "The network of the philosophers  is a directed graph that aims to explain how the philosophers of the past and the present are connected between each others in order to find patterns in the thougths, in the fields of interest (topics), nationalities. In other workds, this network represents a tool to visualize from different perspectives the information about the philosophers, and transform the process of learning about philosophy in a proactive and interactive way than the simply *reading a book*. \n",
    "\n",
    "## Description of the graph\n",
    "\n",
    "The mathematical object *graph* offers a way to explore the way some entities - the *nodes* (in our case the **philosophers**) are connected among each others. In this network , a philosopher *a* is linked to a philosopher *b* if in the wikipedia page of *a* there is a **link** pointing to the page of *b*. The concept of exploiting the web links in order to build the edges if the graph is a based on a solid assumption: a *link* between two philosophers can be considered a relevant connection in the sense that, with a good probability, the two philosophers have something in common (such as thought, ploitical party, ideas, field of research ...).\n",
    "\n",
    "Different attributes are add to the network in order to analyze how the the connections between the philosophers reflects on other aspects of the philosophers.\n",
    "\n",
    "## Data collection\n",
    "\n",
    "The datasets used in this notebook are taken from the data preprocessed in the notebook `DataPreparation.ipynb`, that can be found in the [GitHub repository](https://github.com/aristofanischionis/PhilosophersPageNotebook). The datasets are merged on the name of the file with the wikipedia page in the resulting dataset *df*. Then, only the relevant columns are taken."
   ]
  },
  {
   "cell_type": "code",
   "execution_count": 2,
   "metadata": {},
   "outputs": [
    {
     "data": {
      "text/html": [
       "<div>\n",
       "<style scoped>\n",
       "    .dataframe tbody tr th:only-of-type {\n",
       "        vertical-align: middle;\n",
       "    }\n",
       "\n",
       "    .dataframe tbody tr th {\n",
       "        vertical-align: top;\n",
       "    }\n",
       "\n",
       "    .dataframe thead th {\n",
       "        text-align: right;\n",
       "    }\n",
       "</style>\n",
       "<table border=\"1\" class=\"dataframe\">\n",
       "  <thead>\n",
       "    <tr style=\"text-align: right;\">\n",
       "      <th></th>\n",
       "      <th>File name</th>\n",
       "      <th>Name</th>\n",
       "      <th>century</th>\n",
       "      <th>text_x</th>\n",
       "      <th>preprocess_text_x</th>\n",
       "      <th>text_clean_x</th>\n",
       "      <th>tag</th>\n",
       "      <th>nationality</th>\n",
       "    </tr>\n",
       "  </thead>\n",
       "  <tbody>\n",
       "    <tr>\n",
       "      <th>0</th>\n",
       "      <td>Aaron_Ben-Ze'ev.txt</td>\n",
       "      <td>Aaron Ben-Ze'ev</td>\n",
       "      <td>20</td>\n",
       "      <td>[(\"Aaron Ben-Ze'ev\", \" ('''אהרון בן-זאב'''; bo...</td>\n",
       "      <td>is an israeli philosopher. he was president o...</td>\n",
       "      <td>israeli president university haifa 2004 2012</td>\n",
       "      <td>['university', 'president']</td>\n",
       "      <td>israeli</td>\n",
       "    </tr>\n",
       "    <tr>\n",
       "      <th>1</th>\n",
       "      <td>Abd_al-Latif_al-Baghdadi.txt</td>\n",
       "      <td>Abd al-Latif al-Baghdadi</td>\n",
       "      <td>12</td>\n",
       "      <td>[('ʿAbd al-Laṭīf al-Baghdādī', \" ({{lang-ar|عب...</td>\n",
       "      <td>, short for  , was a physician, philosopher, h...</td>\n",
       "      <td>short physician historian grammarian traveler ...</td>\n",
       "      <td>[]</td>\n",
       "      <td>arabic</td>\n",
       "    </tr>\n",
       "    <tr>\n",
       "      <th>2</th>\n",
       "      <td>Abdolkarim_Soroush.txt</td>\n",
       "      <td>Abdolkarim Soroush</td>\n",
       "      <td>20</td>\n",
       "      <td>[('Abdolkarim Soroush', \" ({{lang|fa|عبدالكريم...</td>\n",
       "      <td>, is an iranian islamic thinker, reformer, rum...</td>\n",
       "      <td>iranian islamic thinker reformer rumi scholar ...</td>\n",
       "      <td>['university', 'professor', 'scholar', 'influe...</td>\n",
       "      <td>iranian</td>\n",
       "    </tr>\n",
       "    <tr>\n",
       "      <th>3</th>\n",
       "      <td>Abdullah_Laroui.txt</td>\n",
       "      <td>Abdullah Laroui</td>\n",
       "      <td>20</td>\n",
       "      <td>[('Abdallah Laroui', \" ({{lang-ar|عبدالله العر...</td>\n",
       "      <td>is a moroccan philosopher, historian, and nov...</td>\n",
       "      <td>moroccan historian novelist work philosophical...</td>\n",
       "      <td>['philosophical', 'written']</td>\n",
       "      <td>arab</td>\n",
       "    </tr>\n",
       "    <tr>\n",
       "      <th>4</th>\n",
       "      <td>Abdullah_al-Qasemi.txt</td>\n",
       "      <td>Abdullah al-Qasemi</td>\n",
       "      <td>20</td>\n",
       "      <td>[('Abdullah al-Qasemi', '  (1907 – 9 January 1...</td>\n",
       "      <td>was a saudi arabian 20th-century writer and ...</td>\n",
       "      <td>saudi arabian 20thcentury writer intellectual ...</td>\n",
       "      <td>['writer', 'world', 'god']</td>\n",
       "      <td>arab</td>\n",
       "    </tr>\n",
       "  </tbody>\n",
       "</table>\n",
       "</div>"
      ],
      "text/plain": [
       "                      File name                      Name  century  \\\n",
       "0           Aaron_Ben-Ze'ev.txt           Aaron Ben-Ze'ev       20   \n",
       "1  Abd_al-Latif_al-Baghdadi.txt  Abd al-Latif al-Baghdadi       12   \n",
       "2        Abdolkarim_Soroush.txt        Abdolkarim Soroush       20   \n",
       "3           Abdullah_Laroui.txt           Abdullah Laroui       20   \n",
       "4        Abdullah_al-Qasemi.txt        Abdullah al-Qasemi       20   \n",
       "\n",
       "                                              text_x  \\\n",
       "0  [(\"Aaron Ben-Ze'ev\", \" ('''אהרון בן-זאב'''; bo...   \n",
       "1  [('ʿAbd al-Laṭīf al-Baghdādī', \" ({{lang-ar|عب...   \n",
       "2  [('Abdolkarim Soroush', \" ({{lang|fa|عبدالكريم...   \n",
       "3  [('Abdallah Laroui', \" ({{lang-ar|عبدالله العر...   \n",
       "4  [('Abdullah al-Qasemi', '  (1907 – 9 January 1...   \n",
       "\n",
       "                                   preprocess_text_x  \\\n",
       "0   is an israeli philosopher. he was president o...   \n",
       "1  , short for  , was a physician, philosopher, h...   \n",
       "2  , is an iranian islamic thinker, reformer, rum...   \n",
       "3   is a moroccan philosopher, historian, and nov...   \n",
       "4    was a saudi arabian 20th-century writer and ...   \n",
       "\n",
       "                                        text_clean_x  \\\n",
       "0       israeli president university haifa 2004 2012   \n",
       "1  short physician historian grammarian traveler ...   \n",
       "2  iranian islamic thinker reformer rumi scholar ...   \n",
       "3  moroccan historian novelist work philosophical...   \n",
       "4  saudi arabian 20thcentury writer intellectual ...   \n",
       "\n",
       "                                                 tag nationality  \n",
       "0                        ['university', 'president']     israeli  \n",
       "1                                                 []      arabic  \n",
       "2  ['university', 'professor', 'scholar', 'influe...     iranian  \n",
       "3                       ['philosophical', 'written']        arab  \n",
       "4                         ['writer', 'world', 'god']        arab  "
      ]
     },
     "execution_count": 2,
     "metadata": {},
     "output_type": "execute_result"
    }
   ],
   "source": [
    "path_git = \"C://Users//ALESSANDRO//Downloads//SocialGraphsPhilosophersProject-main//SocialGraphsPhilosophersProject-main//\"\n",
    "path = \"C://Users//ALESSANDRO//Desktop//Social Graphs and interactions//project//\"\n",
    "# Load dataset of the philosophers with centuries\n",
    "df = pd.read_csv(path_git+\"philosophers_with_centuries.csv\")\n",
    "\n",
    "# load and preprocess dataset with tagwords\n",
    "df_tag = pd.read_csv(path+\"tagwords.csv\")\n",
    "\n",
    "df_tag[\"File name\"] = df_tag[\"philosopher\"]\n",
    "df_tag = df_tag[['Unnamed: 0', 'File name', 'text', 'preprocess_text', 'text_clean','tag']]\n",
    "\n",
    "# load and preprocess dataset with nationalities\n",
    "df_nationalities = pd.read_csv(path+\"nationalities.csv\")\n",
    "\n",
    "df_nationalities[\"File name\"] = df_nationalities[\"philosopher\"]\n",
    "\n",
    "# # merge the two datasets\n",
    "df = pd.merge(df, df_tag, on='File name')\n",
    "df = pd.merge(df, df_nationalities, on='File name')\n",
    "\n",
    "df = df[[\"File name\", \"Name\", \"century\", \"text_x\", \"preprocess_text_x\", \"text_clean_x\", \"tag\", \"nationality\"]]\n",
    "df.head()"
   ]
  },
  {
   "cell_type": "code",
   "execution_count": 3,
   "metadata": {},
   "outputs": [
    {
     "name": "stdout",
     "output_type": "stream",
     "text": [
      "The node has  1732  rows.\n"
     ]
    }
   ],
   "source": [
    "print(\"The node has \", len(df), \" rows.\")"
   ]
  },
  {
   "cell_type": "markdown",
   "metadata": {},
   "source": [
    "## Building a digraph with of all the philosophers"
   ]
  },
  {
   "cell_type": "markdown",
   "metadata": {},
   "source": [
    "The following function is created in order to build a digraph with all the philosophers in the rows. First, the graph will be not connected. Afternwards, the edges will be added upon the links in the wikipedia pages."
   ]
  },
  {
   "cell_type": "code",
   "execution_count": 4,
   "metadata": {},
   "outputs": [],
   "source": [
    "import networkx as nx\n",
    "import os\n",
    "\n",
    "def create_digraph_with_philosophers(df):\n",
    "    \"\"\"Create NetworkX' Digraph with isolated nodes. \n",
    "    Each node represents a philosopher.\n",
    "\n",
    "    Parameters\n",
    "    ----------\n",
    "    philosophers_df : pandas.DataFrame\n",
    "        DataFrame containing column `Name` values of which will become identifiers of nodes\n",
    "\n",
    "    Returns\n",
    "    ----------\n",
    "    NetworkX.DiGraph\n",
    "        A DiGraph with isolated nodes representing philosophers from provided DataFrame\n",
    "    \"\"\"\n",
    "    G = nx.DiGraph()\n",
    "    G.add_nodes_from([row['Name'] for _, row in df.iterrows()])\n",
    "    return G"
   ]
  },
  {
   "cell_type": "code",
   "execution_count": 5,
   "metadata": {},
   "outputs": [
    {
     "name": "stdout",
     "output_type": "stream",
     "text": [
      "Created graph with 1732 nodes and 0 edges\n"
     ]
    }
   ],
   "source": [
    "G = create_digraph_with_philosophers(df)\n",
    "print(\"Created graph with %d nodes and %d edges\" % (G.number_of_nodes(), G.number_of_edges()))"
   ]
  },
  {
   "cell_type": "markdown",
   "metadata": {},
   "source": [
    "With a regular expression, all the links are taken from the the wikipedia pages of the philosophers. The links are marked in the wikipedia page in the format `[*text*|*text*]`, hence they are extracted with the following pattern:\n",
    "\n",
    "`/\\/[/\\/[(.*?)(?:\\|.*?)?(?:#.*?)?\\]\\]`\n",
    "\n",
    "that has already been used in the class (*Social Graphs and interactions*). The pattern is implemented inside the function `find_all_links_on_page`."
   ]
  },
  {
   "cell_type": "code",
   "execution_count": 6,
   "metadata": {},
   "outputs": [],
   "source": [
    "import re\n",
    "\n",
    "def find_all_links_on_page(file_path):\n",
    "    \"\"\"Given a file to text path, finds all internal Wiki links\n",
    "\n",
    "    Parameters\n",
    "    ----------\n",
    "    file_path : str\n",
    "        Path to the text file from which we want to extract links\n",
    "\n",
    "    Returns\n",
    "    ---------\n",
    "    list<str>\n",
    "        List of links\n",
    "    \n",
    "    \"\"\"\n",
    "    with open(file_path, \"r\", encoding=\"utf-8\") as f:\n",
    "        # Read file\n",
    "        page_content = f.read()\n",
    "\n",
    "        # Find all links with regex\n",
    "        pattern = r\"\\[\\[(.*?)(?:\\|.*?)?(?:#.*?)?\\]\\]\"\n",
    "        return re.findall(pattern, page_content)"
   ]
  },
  {
   "cell_type": "markdown",
   "metadata": {},
   "source": [
    "Eventually, function defined above is used in the following script to build the graph."
   ]
  },
  {
   "cell_type": "code",
   "execution_count": 7,
   "metadata": {},
   "outputs": [
    {
     "name": "stdout",
     "output_type": "stream",
     "text": [
      "Now graph G has 1732 nodes and 14103 edges\n"
     ]
    }
   ],
   "source": [
    "philosophers_pages_root = path+\"philosophers_pages\"\n",
    "for _, row in df.iterrows():\n",
    "    linked_page_names = find_all_links_on_page(\"%s/%s\" % (philosophers_pages_root, row['File name']))\n",
    "    for linked_page_name in linked_page_names:\n",
    "        if linked_page_name in G:\n",
    "            G.add_edge(row['Name'], linked_page_name)\n",
    "\n",
    "print(\"Now graph G has %d nodes and %d edges\" % (G.number_of_nodes(), G.number_of_edges()))"
   ]
  },
  {
   "cell_type": "markdown",
   "metadata": {},
   "source": [
    "## Removing isolated nodes"
   ]
  },
  {
   "cell_type": "code",
   "execution_count": 8,
   "metadata": {},
   "outputs": [
    {
     "name": "stdout",
     "output_type": "stream",
     "text": [
      "There are 124 isolated nodes in G\n"
     ]
    }
   ],
   "source": [
    "print(\"There are %d isolated nodes in G\" % len(list(nx.isolates(G))))"
   ]
  },
  {
   "cell_type": "code",
   "execution_count": 9,
   "metadata": {},
   "outputs": [
    {
     "name": "stdout",
     "output_type": "stream",
     "text": [
      "Now graph G has 1608 nodes and 14103 edges\n"
     ]
    }
   ],
   "source": [
    "G.remove_nodes_from(list(nx.isolates(G)))\n",
    "print(\"Now graph G has %d nodes and %d edges\" % (G.number_of_nodes(), G.number_of_edges()))"
   ]
  },
  {
   "cell_type": "markdown",
   "metadata": {},
   "source": [
    "# Basic statistics of the graph"
   ]
  },
  {
   "cell_type": "markdown",
   "metadata": {},
   "source": [
    "The following function allow to find some information about the nodes of the graph, in order to have a first overview of the graph built so far, and in particular to see which are the most crucial nodes of the graph. These will be probably the most important philosophers in the history, or at least those with the longest wikipedia pages."
   ]
  },
  {
   "cell_type": "code",
   "execution_count": 10,
   "metadata": {},
   "outputs": [],
   "source": [
    "def find_most_connected_nodes(G, n):\n",
    "  \"\"\"Given a node G, find n most connected nodes in terms of\n",
    "  degree, in-degree and out-degree\n",
    "\n",
    "  Parameters\n",
    "  ----------\n",
    "  G : nx.DiGraph\n",
    "    DiGraph to be analyzed\n",
    "  n : int\n",
    "    Number of top connected nodes to be returned\n",
    "\n",
    "  Returns\n",
    "  ----------\n",
    "  (list<(string, int)>, list<(string, int)>, list<(string, int)>) \n",
    "    A triplet with 3 lists, each list containing n tuples consisting of \n",
    "    a name of a character and a number of connections he/she has, corresponding\n",
    "    to the n top connected characters.\n",
    "    First list contains results in terms of undirected graph, second list in\n",
    "    terms of in-degrees, and thirs list in terms of out-degrees.\n",
    "  \"\"\"\n",
    "  return (\n",
    "      sorted(G.degree, key=lambda x: x[1], reverse=True)[:n],\n",
    "      sorted(G.in_degree, key=lambda x: x[1], reverse=True)[:n],\n",
    "      sorted(G.out_degree, key=lambda x: x[1], reverse=True)[:n]\n",
    "  )"
   ]
  },
  {
   "cell_type": "code",
   "execution_count": 11,
   "metadata": {},
   "outputs": [
    {
     "name": "stdout",
     "output_type": "stream",
     "text": [
      "10 top connected philosophers in undirected network:\n",
      "  - Aristotle: degree: 360\n",
      "  - Immanuel Kant: degree: 354\n",
      "  - Plato: degree: 333\n",
      "  - Friedrich Nietzsche: degree: 234\n",
      "  - Karl Marx: degree: 231\n",
      "  - Georg Wilhelm Friedrich Hegel: degree: 222\n",
      "  - David Hume: degree: 198\n",
      "  - Bertrand Russell: degree: 179\n",
      "  - Martin Heidegger: degree: 173\n",
      "  - René Descartes: degree: 173\n",
      "\n",
      "10 top connected philosophers in terms of in-degree:\n",
      "  - Aristotle: degree: 319\n",
      "  - Immanuel Kant: degree: 279\n",
      "  - Plato: degree: 255\n",
      "  - Karl Marx: degree: 187\n",
      "  - Friedrich Nietzsche: degree: 150\n",
      "  - David Hume: degree: 140\n",
      "  - Georg Wilhelm Friedrich Hegel: degree: 133\n",
      "  - Bertrand Russell: degree: 127\n",
      "  - John Locke: degree: 127\n",
      "  - René Descartes: degree: 125\n",
      "\n",
      "10 top connected philosophers in terms of out-degree:\n",
      "  - Georg Wilhelm Friedrich Hegel: degree: 89\n",
      "  - Friedrich Nietzsche: degree: 84\n",
      "  - Plato: degree: 78\n",
      "  - Immanuel Kant: degree: 75\n",
      "  - Leo Strauss: degree: 64\n",
      "  - Martin Heidegger: degree: 63\n",
      "  - Edmund Husserl: degree: 59\n",
      "  - David Hume: degree: 58\n",
      "  - Arthur Schopenhauer: degree: 57\n",
      "  - Jacques Derrida: degree: 57\n"
     ]
    }
   ],
   "source": [
    "# Top 10 connected allies \n",
    "top_connected_philosophers = find_most_connected_nodes(G, 10)\n",
    "\n",
    "# Print results\n",
    "print(\"10 top connected philosophers in undirected network:\\n  - %s\" \n",
    "      % \"\\n  - \".join([\"%s: degree: %d\" % tuple for tuple in top_connected_philosophers[0]]))\n",
    "\n",
    "print(\"\\n10 top connected philosophers in terms of in-degree:\\n  - %s\" \n",
    "      % \"\\n  - \".join([\"%s: degree: %d\" % tuple for tuple in top_connected_philosophers[1]]))\n",
    "\n",
    "print(\"\\n10 top connected philosophers in terms of out-degree:\\n  - %s\" \n",
    "      % \"\\n  - \".join([\"%s: degree: %d\" % tuple for tuple in top_connected_philosophers[2]]))"
   ]
  },
  {
   "cell_type": "markdown",
   "metadata": {},
   "source": [
    "From the output it can be noticed that in general, the number of in-degree is much higher than the number of out degree. Moreover, the 10 top connected philosophers in terms of out degree are completely different than the most connected philosophers in terms of out degree. It follows that the top 10 connected philosophers (overall) are also the top 10 connected philosophers in terms of in degree, that are, in the end, can be considered - at least according to the model proposed in this project - **the most important philosophers of the history.**"
   ]
  },
  {
   "cell_type": "markdown",
   "metadata": {},
   "source": [
    "Plotting the degree distribution it is also possible to have information about all the philosophers, and not only the most important. The plots of the degree distribution gives information about the number of connections of the nodes of the graph, and hence it aims to find a measure of the density of the network.\n",
    "\n",
    "The plots of the degree distribution are displayed exploiting the function `plot_degree_distribution`:"
   ]
  },
  {
   "cell_type": "code",
   "execution_count": 12,
   "metadata": {},
   "outputs": [],
   "source": [
    "sns.set_style('darkgrid')\n",
    "\n",
    "def plot_degree_distribution(degrees, type_of_degree):\n",
    "    \"\"\"Plots degree distribution given list of degrees of every node in network\n",
    "    \n",
    "    Parameters\n",
    "    ----------\n",
    "    degrees : list<int>\n",
    "        List of number of degrees per every node in the network\n",
    "    type_of_degree : str\n",
    "        Degree/In-degree/Out-degree: used in plot's title and axis names\n",
    "    \"\"\"\n",
    "    hist_x, hist_y = np.unique(degrees, return_counts=True)\n",
    "\n",
    "    plt.figure(figsize=(15,8))\n",
    "    plt.suptitle(\"%s distribution\" % type_of_degree)\n",
    "    plt.subplot(2,2,1)\n",
    "\n",
    "    ax1 = sns.histplot(data=degrees, binwidth=1)\n",
    "    ax1.set(title=\"Histogram of the %s distribution\" % type_of_degree.lower(), xlabel=type_of_degree, ylabel=\"Frequency\")\n",
    "\n",
    "    plt.subplot(2,2,2)\n",
    "    ax2 = sns.scatterplot(x=hist_x, y=hist_y)\n",
    "    ax2.set(xscale='log', yscale='log', xlabel=type_of_degree, ylabel=\"Frequency\", title=\"%s distribution (Log-Log)\" % type_of_degree)\n",
    "    ax2.set_ylim(bottom=0.5, top=10e2)\n",
    "    ax2.set_xlim(left=0.5, right=1000)\n",
    "    plt.show()"
   ]
  },
  {
   "cell_type": "code",
   "execution_count": 13,
   "metadata": {},
   "outputs": [
    {
     "data": {
      "image/png": "[encoded data removed]",
      "text/plain": [
       "<Figure size 1080x576 with 2 Axes>"
      ]
     },
     "metadata": {},
     "output_type": "display_data"
    }
   ],
   "source": [
    "degrees = [G.degree(n) for n in G.nodes()]\n",
    "plot_degree_distribution(degrees, \"Degree\")"
   ]
  },
  {
   "cell_type": "code",
   "execution_count": 14,
   "metadata": {},
   "outputs": [
    {
     "data": {
      "image/png": "[encoded data removed]",
      "text/plain": [
       "<Figure size 1080x576 with 2 Axes>"
      ]
     },
     "metadata": {},
     "output_type": "display_data"
    }
   ],
   "source": [
    "in_degrees = [G.in_degree(n) for n in G.nodes()]\n",
    "plot_degree_distribution(in_degrees, \"In-degree\")"
   ]
  },
  {
   "cell_type": "code",
   "execution_count": 15,
   "metadata": {},
   "outputs": [
    {
     "data": {
      "image/png": "[encoded data removed]",
      "text/plain": [
       "<Figure size 1080x576 with 2 Axes>"
      ]
     },
     "metadata": {},
     "output_type": "display_data"
    }
   ],
   "source": [
    "out_degrees = [G.out_degree(n) for n in G.nodes()]\n",
    "plot_degree_distribution(out_degrees, \"Out-degree\")"
   ]
  },
  {
   "cell_type": "markdown",
   "metadata": {},
   "source": [
    "The histgorams describing the in-degree and out-degree distribution give interesting information about the way the nodes of the graph are connected with among each others. It can be observed that the two plots have the shape that approximate two negative binomial distributions, the difference is that the in-degree distribution is scaled, and the values are doubled. The logaritmic scaled plot highlights how the distributions have the same shape."
   ]
  },
  {
   "cell_type": "markdown",
   "metadata": {},
   "source": [
    "## Exponent of the degree distribution"
   ]
  },
  {
   "cell_type": "code",
   "execution_count": 16,
   "metadata": {},
   "outputs": [
    {
     "name": "stdout",
     "output_type": "stream",
     "text": [
      "Calculating best minimal value for power law fit\n",
      "Exponent of the in-degree distribution: 2.61933413314089\n",
      "Calculating best minimal value for power law fit\n",
      "Exponent of the out-degree distribution: 3.5217826946978343\n"
     ]
    }
   ],
   "source": [
    "result = powerlaw.Fit([G.in_degree(node) for node in G.nodes() if G.in_degree(node) > 0]).alpha\n",
    "print(\"Exponent of the in-degree distribution: %s\" % result)\n",
    "\n",
    "result = powerlaw.Fit([G.out_degree(node) for node in G.nodes() if G.out_degree(node) > 0]).alpha\n",
    "print(\"Exponent of the out-degree distribution: %s\" % result)"
   ]
  },
  {
   "cell_type": "markdown",
   "metadata": {},
   "source": [
    "# Visualisation of the network"
   ]
  },
  {
   "cell_type": "code",
   "execution_count": null,
   "metadata": {},
   "outputs": [],
   "source": []
  },
  {
   "cell_type": "code",
   "execution_count": 17,
   "metadata": {},
   "outputs": [],
   "source": [
    "# Convert DiGraph to Graph\n",
    "H = G.to_undirected()"
   ]
  },
  {
   "cell_type": "code",
   "execution_count": 18,
   "metadata": {},
   "outputs": [
    {
     "name": "stderr",
     "output_type": "stream",
     "text": [
      "100%|██████████| 2000/2000 [00:42<00:00, 47.39it/s]"
     ]
    },
    {
     "name": "stdout",
     "output_type": "stream",
     "text": [
      "BarnesHut Approximation  took  11.96  seconds\n",
      "Repulsion forces  took  26.50  seconds\n",
      "Gravitational forces  took  0.33  seconds\n",
      "Attraction forces  took  0.48  seconds\n",
      "AdjustSpeedAndApplyForces step  took  1.55  seconds\n"
     ]
    },
    {
     "name": "stderr",
     "output_type": "stream",
     "text": [
      "\n"
     ]
    }
   ],
   "source": [
    "from fa2 import ForceAtlas2\n",
    "\n",
    "sns.set_style('white')\n",
    "\n",
    "forceatlas2 = ForceAtlas2(\n",
    "    # Behavior alternatives\n",
    "    outboundAttractionDistribution=True,\n",
    "\n",
    "    # Performance\n",
    "    jitterTolerance=0.1,  # Tolerance\n",
    "    barnesHutOptimize=True,\n",
    "    barnesHutTheta=2,\n",
    "\n",
    "    # Tuning\n",
    "    scalingRatio=0.1,\n",
    "    strongGravityMode=False,\n",
    "    gravity=0.1,\n",
    "\n",
    "    # Log\n",
    "    verbose=True\n",
    ")\n",
    "\n",
    "positions = forceatlas2.forceatlas2_networkx_layout(H, pos=None, iterations=2000)\n",
    "\n",
    "# plt.figure(figsize=(15,15))\n",
    "# nodes = H.nodes()\n",
    "# edges = H.edges()\n",
    "# nx.draw_networkx(H,\n",
    "#                   positions,\n",
    "#                   node_size=[H.degree(node) * 5 for node in H.nodes()],\n",
    "#                   with_labels=False)\n",
    "# plt.show()"
   ]
  },
  {
   "cell_type": "markdown",
   "metadata": {},
   "source": [
    "<!-- # Visualisation with Bokeh -->"
   ]
  },
  {
   "cell_type": "code",
   "execution_count": 19,
   "metadata": {},
   "outputs": [],
   "source": [
    "from fa2 import ForceAtlas2\n",
    "from bokeh.io import save\n",
    "from bokeh.models import Range1d, Circle, MultiLine\n",
    "from bokeh.plotting import figure\n",
    "from bokeh.plotting import from_networkx\n",
    "from bokeh.palettes import Blues8\n",
    "from bokeh.transform import linear_cmap\n",
    "from bokeh.themes import Theme\n",
    "from bokeh.plotting import figure, curdoc\n",
    "from bokeh.palettes import Plasma10\n",
    "from bokeh.palettes import Plasma8\n",
    "from bokeh.palettes import Spectral4\n",
    "from bokeh.palettes import Plasma10\n",
    "from bokeh.palettes import RdYlGn\n",
    "from bokeh.models.graphs import NodesAndLinkedEdges, EdgesAndLinkedNodes\n",
    "\n",
    "\n",
    "curdoc().theme = Theme(filename=path+\"bokeh_theme.yaml\")"
   ]
  },
  {
   "cell_type": "code",
   "execution_count": 21,
   "metadata": {},
   "outputs": [
    {
     "data": {
      "text/plain": [
       "'C:\\\\Users\\\\ALESSANDRO\\\\Desktop\\\\Social Graphs and interactions\\\\project\\\\Philosophers_Network.html'"
      ]
     },
     "execution_count": 21,
     "metadata": {},
     "output_type": "execute_result"
    }
   ],
   "source": [
    "#Choose a title!\n",
    "title = 'Philosophers_Network'\n",
    "\n",
    "degrees = dict(nx.degree(G))\n",
    "nx.set_node_attributes(G, name='degree', values=degrees)\n",
    "nx.set_node_attributes(G, name='size', values={d: int(degrees[d]/10) + 1 for d in degrees.keys()})\n",
    "\n",
    "size_by_this_attribute = 'size'\n",
    "color_by_this_attribute = 'degree'\n",
    "\n",
    "color_palette = Plasma8\n",
    "\n",
    "#Establish which categories will appear when hovering over each node\n",
    "HOVER_TOOLTIPS = [(\"Philosopher\", \"@index\"), (\"Degree\", \"@degree\")]\n",
    "\n",
    "#Create a plot — set dimensions, toolbar, and title\n",
    "plot = figure(tooltips = HOVER_TOOLTIPS,\n",
    "              tools=\"pan,wheel_zoom,save,reset\", active_scroll='wheel_zoom',\n",
    "            x_range=Range1d(-240, 280), y_range=Range1d(-200, 200), toolbar_location=None,\n",
    "             plot_width=1250, plot_height=600)\n",
    "\n",
    "# Turn off ticks ######################################################################################################\n",
    "plot.xaxis.major_tick_line_color = None  # turn off x-axis major ticks\n",
    "plot.xaxis.minor_tick_line_color = None  # turn off x-axis minor ticks\n",
    "\n",
    "plot.yaxis.major_tick_line_color = None  # turn off y-axis major ticks\n",
    "plot.yaxis.minor_tick_line_color = None  # turn off y-axis minor ticks\n",
    "\n",
    "plot.xaxis.major_label_text_font_size = '0pt'  # turn off x-axis tick labels\n",
    "plot.yaxis.major_label_text_font_size = '0pt'  # turn off y-axis tick labels\n",
    "######################################################################################################################\n",
    "\n",
    "\n",
    "#Create a network graph object with spring layout\n",
    "# https://networkx.github.io/documentation/networkx-1.9/reference/generated/networkx.drawing.layout.spring_layout.html\n",
    "network_graph = from_networkx(G, positions, scale=1, center=(0, 0))\n",
    "\n",
    "\n",
    "#Set node sizes and colors according to node degree (color as spectrum of color palette)\n",
    "minimum_value_color = min(network_graph.node_renderer.data_source.data[color_by_this_attribute])\n",
    "maximum_value_color = max(network_graph.node_renderer.data_source.data[color_by_this_attribute])\n",
    "network_graph.node_renderer.glyph = Circle(size=size_by_this_attribute, fill_color=linear_cmap(color_by_this_attribute, color_palette, minimum_value_color, maximum_value_color))\n",
    "\n",
    "#Set edge opacity and width\n",
    "network_graph.edge_renderer.glyph = MultiLine(line_alpha=0.05, line_width=0.3)\n",
    "\n",
    "#Add network graph to the plot\n",
    "plot.renderers.append(network_graph)\n",
    "\n",
    "from bokeh.models.graphs import NodesAndLinkedEdges, EdgesAndLinkedNodes\n",
    "\n",
    "network_graph.node_renderer.selection_glyph = Circle(\n",
    "   size = 25,\n",
    "   fill_color = Spectral4[2]\n",
    ")\n",
    "network_graph.node_renderer.hover_glyph = Circle(\n",
    "   size = 20,\n",
    "   fill_color = Spectral4[1]\n",
    ")\n",
    "\n",
    "# network_graph.edge_renderer.glyph = MultiLine(\n",
    "#    line_color = \"#CCCCCC\",\n",
    "#    line_alpha = 0.8,\n",
    "#    line_width = 3\n",
    "# )\n",
    "network_graph.edge_renderer.selection_glyph = MultiLine(\n",
    "   line_color = Spectral4[2],\n",
    "   line_width = 7\n",
    ")\n",
    "network_graph.edge_renderer.hover_glyph = MultiLine(\n",
    "   line_color = Spectral4[1],\n",
    "   line_width = 5\n",
    ")\n",
    "\n",
    "\n",
    "network_graph.selection_policy = NodesAndLinkedEdges()\n",
    "# network_graph.inspection_policy = EdgesAndLinkedNodes()\n",
    "\n",
    "plot.renderers.append(network_graph)\n",
    "\n",
    "plot.background_fill_alpha = 0\n",
    "\n",
    "save(plot, filename=f\"{title}.html\")"
   ]
  },
  {
   "cell_type": "code",
   "execution_count": 102,
   "metadata": {},
   "outputs": [],
   "source": [
    "# INSERT IMAGE"
   ]
  },
  {
   "cell_type": "markdown",
   "metadata": {},
   "source": [
    "The plot displayed with bokeh allows to interactively visualize the relations between the philosophers. The colours of the plot are based on the degree of the node: the greater is the degree of a node, the lighter is his color (the nodes with the largest amount of links are coloured in yellow). The size of the circle used as a node is also proportional to the degree of the node.\n",
    "\n",
    "The network built in this way gives interesting insights about the distribution of the nodes and the way they are connected, providing information about the importance of a node. However, it is hard to come out with other relevant insights to understand with whom is really linked each philosopher. \n",
    "\n",
    "In order to go deeper in the matter, some features will be added to the network in the form of attributes that will be used in order to charachterize the neighbours of each node.\n",
    "\n",
    "In the following section the plot that has been showed above will be coloured based on the nationality of the philosophers."
   ]
  },
  {
   "cell_type": "markdown",
   "metadata": {},
   "source": [
    "## Analysis of the nationalities\n",
    "\n",
    "### Motivations\n",
    "\n",
    "The nationality of a philosopher plays a relevant role, since it influences his thoughts as much as the fields of interest. Moreover, it can be supposed that through the visualization of the nodes, coloured by nations, it is possible to find patterns and clusters in the colors. For instance, it can be expected that the from the same nationality will have most of their connections between each others, or that the greek philosophers will have a lot of connections with ancient roman philosophers and writers.\n",
    "\n",
    "### The network\n",
    "\n",
    "The network that will be involved in the analysis is a subnetwork of *The network of Philosophers*. In fact, not all the philosophers in the dataset have an assigned nationality, either because it was not stated in the introduction page, or because the nationality of that philosopher was not included in the set of nationalities, because it was a minor and not relevant to the scope of the analysis. Furthermore, it has been decided not to include all the nationalities, but only a subset of n = 10 nationalities, in order to avoid dispersion of informations: it is more interesting to analyze a small but significant dataset, than a larger but less relevant. A too large amount of nationalities would mean having too many colors in the visualization and it may affect the analysis.\n",
    "\n",
    "This is possible since , as it has already been mentioned in the data exploration, the distribution of the nationalities follows the *pareto principle*, therefore most of the philosophers will be taken into account only considering those nationalities.\n",
    "\n",
    "### Analysis of the countries\n",
    "\n",
    "First the distribution of the considered countries is displayed in the following block of code:"
   ]
  },
  {
   "cell_type": "code",
   "execution_count": 22,
   "metadata": {},
   "outputs": [
    {
     "data": {
      "image/png": "[encoded data removed]",
      "text/plain": [
       "<Figure size 1080x576 with 1 Axes>"
      ]
     },
     "metadata": {},
     "output_type": "display_data"
    }
   ],
   "source": [
    "a = df.groupby(\"nationality\").count()[\"Name\"].sort_values(ascending=False)[:10] # top 10 most popolous nationalities in the dataset of the philosophers\n",
    "\n",
    "font = {'family': 'serif',\n",
    "        'color':  'darkred',\n",
    "        'weight': 'normal',\n",
    "        'size': 14,\n",
    "        }\n",
    "\n",
    "font_title = {'family': 'serif',\n",
    "              'color':  'black',\n",
    "              'weight': 'normal',\n",
    "              'size': 6,\n",
    "            }\n",
    "\n",
    "sns.set_style('darkgrid')\n",
    "\n",
    "plt.figure(figsize=(15,8))\n",
    "plt.suptitle(\"Distribution of the countries\", fontdict=font)\n",
    "plt.bar(a.index, a.values)\n",
    "plt.xlabel(\"nationalities\", fontdict=font)\n",
    "plt.ylabel(\"Frequency\", fontdict=font)\n",
    "plt.show()"
   ]
  },
  {
   "cell_type": "code",
   "execution_count": 23,
   "metadata": {},
   "outputs": [
    {
     "name": "stdout",
     "output_type": "stream",
     "text": [
      "the subgraph containing only the philosophers belonging to the ten nationalities has  998  nodes\n"
     ]
    }
   ],
   "source": [
    "print(\"the subgraph containing only the philosophers belonging to the ten nationalities has \", df[df.nationality.isin(a.index)].shape[0], \" nodes\")"
   ]
  },
  {
   "cell_type": "markdown",
   "metadata": {},
   "source": [
    "### Preparation of the dataset and creation of the network"
   ]
  },
  {
   "cell_type": "code",
   "execution_count": 24,
   "metadata": {},
   "outputs": [
    {
     "data": {
      "text/plain": [
       "['german',\n",
       " 'french',\n",
       " 'american',\n",
       " 'english',\n",
       " 'italian',\n",
       " 'greek',\n",
       " 'chinese',\n",
       " 'british',\n",
       " 'roman',\n",
       " 'russian']"
      ]
     },
     "execution_count": 24,
     "metadata": {},
     "output_type": "execute_result"
    }
   ],
   "source": [
    "focus_nat = list(df.groupby(\"nationality\").count()[\"Name\"].sort_values(ascending=False)[:10].index)\n",
    "focus_nat"
   ]
  },
  {
   "cell_type": "code",
   "execution_count": 25,
   "metadata": {},
   "outputs": [
    {
     "data": {
      "text/plain": [
       "998"
      ]
     },
     "execution_count": 25,
     "metadata": {},
     "output_type": "execute_result"
    }
   ],
   "source": [
    "df_top_nat = df[df.nationality.isin(focus_nat)]\n",
    "df_top_nat.shape[0]"
   ]
  },
  {
   "cell_type": "code",
   "execution_count": 26,
   "metadata": {},
   "outputs": [
    {
     "name": "stdout",
     "output_type": "stream",
     "text": [
      "Created graph with 998 nodes and 0 edges\n"
     ]
    }
   ],
   "source": [
    "N = create_digraph_with_philosophers(df_top_nat)\n",
    "print(\"Created graph with %d nodes and %d edges\" % (N.number_of_nodes(), N.number_of_edges()))"
   ]
  },
  {
   "cell_type": "code",
   "execution_count": 27,
   "metadata": {},
   "outputs": [
    {
     "name": "stdout",
     "output_type": "stream",
     "text": [
      "Now graph N has 998 nodes and 5657 edges\n"
     ]
    }
   ],
   "source": [
    "philosophers_pages_root = path+\"philosophers_pages\"\n",
    "for _, row in df_top_nat.iterrows():\n",
    "    linked_page_names = find_all_links_on_page(\"%s/%s\" % (philosophers_pages_root, row['File name']))\n",
    "    for linked_page_name in linked_page_names:\n",
    "        if linked_page_name in N:\n",
    "            N.add_edge(row['Name'], linked_page_name)\n",
    "\n",
    "print(\"Now graph N has %d nodes and %d edges\" % (N.number_of_nodes(), N.number_of_edges()))"
   ]
  },
  {
   "cell_type": "markdown",
   "metadata": {},
   "source": [
    "## Basic stats of the network"
   ]
  },
  {
   "cell_type": "markdown",
   "metadata": {},
   "source": [
    "The following plots are pretty much the same as those seen about *the network of the philosophers*, with the only difference that the frequency is lower, since the nodes beloning to the subgraph are few more than a half.\n",
    "\n",
    "Noth the histograms show that also the frequency is roughly a half than the frequency of the degree seen for the super graph."
   ]
  },
  {
   "cell_type": "code",
   "execution_count": 28,
   "metadata": {},
   "outputs": [
    {
     "data": {
      "image/png": "[encoded data removed]",
      "text/plain": [
       "<Figure size 1080x576 with 2 Axes>"
      ]
     },
     "metadata": {},
     "output_type": "display_data"
    }
   ],
   "source": [
    "degrees = [N.degree(n) for n in N.nodes()]\n",
    "plot_degree_distribution(degrees, \"Degree\")"
   ]
  },
  {
   "cell_type": "code",
   "execution_count": 29,
   "metadata": {},
   "outputs": [
    {
     "data": {
      "image/png": "[encoded data removed]",
      "text/plain": [
       "<Figure size 1080x576 with 2 Axes>"
      ]
     },
     "metadata": {},
     "output_type": "display_data"
    }
   ],
   "source": [
    "in_degrees = [N.in_degree(n) for n in N.nodes()]\n",
    "plot_degree_distribution(in_degrees, \"In-degree\")"
   ]
  },
  {
   "cell_type": "code",
   "execution_count": 30,
   "metadata": {},
   "outputs": [
    {
     "data": {
      "image/png": "[encoded data removed]",
      "text/plain": [
       "<Figure size 1080x576 with 2 Axes>"
      ]
     },
     "metadata": {},
     "output_type": "display_data"
    }
   ],
   "source": [
    "out_degrees = [N.in_degree(n) for n in N.nodes()]\n",
    "plot_degree_distribution(out_degrees, \"Out-degree\")"
   ]
  },
  {
   "cell_type": "markdown",
   "metadata": {},
   "source": [
    "## Exponent of the degree distribution"
   ]
  },
  {
   "cell_type": "code",
   "execution_count": 31,
   "metadata": {},
   "outputs": [
    {
     "name": "stdout",
     "output_type": "stream",
     "text": [
      "Calculating best minimal value for power law fit\n",
      "Exponent of the in-degree distribution: 2.802595991937793\n",
      "Calculating best minimal value for power law fit\n",
      "Exponent of the out-degree distribution: 3.7997274215021775\n"
     ]
    }
   ],
   "source": [
    "result = powerlaw.Fit([N.in_degree(node) for node in N.nodes() if N.in_degree(node) > 0]).alpha\n",
    "print(\"Exponent of the in-degree distribution: %s\" % result)\n",
    "\n",
    "result = powerlaw.Fit([N.out_degree(node) for node in N.nodes() if N.out_degree(node) > 0]).alpha\n",
    "print(\"Exponent of the out-degree distribution: %s\" % result)"
   ]
  },
  {
   "cell_type": "markdown",
   "metadata": {},
   "source": [
    "The exponent degree of the distribution of the subgrap is also very close to the distribution of the initial graph."
   ]
  },
  {
   "cell_type": "markdown",
   "metadata": {},
   "source": [
    "### Isolated nodes removal"
   ]
  },
  {
   "cell_type": "code",
   "execution_count": 32,
   "metadata": {},
   "outputs": [
    {
     "name": "stdout",
     "output_type": "stream",
     "text": [
      "There are 92 isolated nodes in N\n"
     ]
    }
   ],
   "source": [
    "print(\"There are %d isolated nodes in N\" % len(list(nx.isolates(N))))"
   ]
  },
  {
   "cell_type": "code",
   "execution_count": 33,
   "metadata": {},
   "outputs": [
    {
     "name": "stdout",
     "output_type": "stream",
     "text": [
      "Now graph N has 906 nodes and 5657 edges\n"
     ]
    }
   ],
   "source": [
    "N.remove_nodes_from(list(nx.isolates(N)))\n",
    "print(\"Now graph N has %d nodes and %d edges\" % (N.number_of_nodes(), N.number_of_edges()))"
   ]
  },
  {
   "cell_type": "markdown",
   "metadata": {},
   "source": [
    "### Building the sub network of the philosophers"
   ]
  },
  {
   "cell_type": "markdown",
   "metadata": {},
   "source": [
    "In order to color the nodes of the graph, according to the nationality, to each of the 10 nationalities is associated a code, that is an integer number between 1 and 10: a different color will be associated to each of the codes."
   ]
  },
  {
   "cell_type": "code",
   "execution_count": 34,
   "metadata": {},
   "outputs": [
    {
     "name": "stderr",
     "output_type": "stream",
     "text": [
      "<ipython-input-34-d0e47669ae1e>:9: SettingWithCopyWarning: \n",
      "A value is trying to be set on a copy of a slice from a DataFrame.\n",
      "Try using .loc[row_indexer,col_indexer] = value instead\n",
      "\n",
      "See the caveats in the documentation: https://pandas.pydata.org/pandas-docs/stable/user_guide/indexing.html#returning-a-view-versus-a-copy\n",
      "  df_top_nat[\"code_color\"] = cat_col\n"
     ]
    }
   ],
   "source": [
    "# convert countries to numerical values (creating new column)\n",
    "cat_col = []\n",
    "for i in df_top_nat[\"nationality\"]:\n",
    "    for jth in range(len(focus_nat)):\n",
    "#         print(jth)\n",
    "        if i == focus_nat[jth]:\n",
    "            cat_col.append(jth)\n",
    "\n",
    "df_top_nat[\"code_color\"] = cat_col"
   ]
  },
  {
   "cell_type": "code",
   "execution_count": 35,
   "metadata": {},
   "outputs": [
    {
     "data": {
      "text/html": [
       "<div>\n",
       "<style scoped>\n",
       "    .dataframe tbody tr th:only-of-type {\n",
       "        vertical-align: middle;\n",
       "    }\n",
       "\n",
       "    .dataframe tbody tr th {\n",
       "        vertical-align: top;\n",
       "    }\n",
       "\n",
       "    .dataframe thead th {\n",
       "        text-align: right;\n",
       "    }\n",
       "</style>\n",
       "<table border=\"1\" class=\"dataframe\">\n",
       "  <thead>\n",
       "    <tr style=\"text-align: right;\">\n",
       "      <th></th>\n",
       "      <th>Name</th>\n",
       "      <th>nationality</th>\n",
       "      <th>code_color</th>\n",
       "    </tr>\n",
       "  </thead>\n",
       "  <tbody>\n",
       "    <tr>\n",
       "      <th>8</th>\n",
       "      <td>Abraham Joshua Heschel</td>\n",
       "      <td>american</td>\n",
       "      <td>2</td>\n",
       "    </tr>\n",
       "    <tr>\n",
       "      <th>9</th>\n",
       "      <td>Abraham Tucker</td>\n",
       "      <td>english</td>\n",
       "      <td>3</td>\n",
       "    </tr>\n",
       "    <tr>\n",
       "      <th>22</th>\n",
       "      <td>Adolf Reinach</td>\n",
       "      <td>german</td>\n",
       "      <td>0</td>\n",
       "    </tr>\n",
       "    <tr>\n",
       "      <th>23</th>\n",
       "      <td>Adolf von Harnack</td>\n",
       "      <td>german</td>\n",
       "      <td>0</td>\n",
       "    </tr>\n",
       "    <tr>\n",
       "      <th>25</th>\n",
       "      <td>Aenesidemus</td>\n",
       "      <td>greek</td>\n",
       "      <td>5</td>\n",
       "    </tr>\n",
       "  </tbody>\n",
       "</table>\n",
       "</div>"
      ],
      "text/plain": [
       "                      Name nationality  code_color\n",
       "8   Abraham Joshua Heschel    american           2\n",
       "9           Abraham Tucker     english           3\n",
       "22           Adolf Reinach      german           0\n",
       "23       Adolf von Harnack      german           0\n",
       "25             Aenesidemus       greek           5"
      ]
     },
     "execution_count": 35,
     "metadata": {},
     "output_type": "execute_result"
    }
   ],
   "source": [
    "df_top_nat[[\"Name\", \"nationality\", \"code_color\"]].head()"
   ]
  },
  {
   "cell_type": "markdown",
   "metadata": {},
   "source": [
    "The attribute `code_color` is add to each node of the network. This attribute will be used to map the color of the nodes in the interactive visualization."
   ]
  },
  {
   "cell_type": "code",
   "execution_count": 36,
   "metadata": {},
   "outputs": [],
   "source": [
    "nx.set_node_attributes(N, {df_top_nat[\"Name\"][d]:{\"code_color\":df_top_nat[\"code_color\"][d]} for d in df_top_nat.index})"
   ]
  },
  {
   "cell_type": "code",
   "execution_count": 38,
   "metadata": {},
   "outputs": [
    {
     "data": {
      "text/plain": [
       "'C:\\\\Users\\\\ALESSANDRO\\\\Desktop\\\\Social Graphs and interactions\\\\project\\\\Philosophers_Network_by_country.html'"
      ]
     },
     "execution_count": 38,
     "metadata": {},
     "output_type": "execute_result"
    }
   ],
   "source": [
    "#Choose a title!\n",
    "title = 'Philosophers_Network_by_country'\n",
    "\n",
    "# set positions\n",
    "# positions = forceatlas2.forceatlas2_networkx_layout(N, pos=None, iterations=2000)\n",
    "\n",
    "degrees = dict(nx.degree(N))\n",
    "nx.set_node_attributes(N, name='degree', values=degrees)\n",
    "nx.set_node_attributes(N, name=\"code_color\", values={df_top_nat[\"Name\"][d]: df_top_nat[\"code_color\"][d] for d in df_top_nat.index})\n",
    "nx.set_node_attributes(N, name=\"nationality\", values={df_top_nat[\"Name\"][d]: df_top_nat[\"nationality\"][d] for d in df_top_nat.index})\n",
    "\n",
    "nx.set_node_attributes(N, name='size', values={d: int(degrees[d]/7) + 3 for d in degrees.keys()})\n",
    "size_by_this_attribute = 'size' \n",
    "color_by_this_attribute = 'code_color'\n",
    "\n",
    "# color_palette = sns.color_palette(\"hls\", len(focus_countries))\n",
    "\n",
    "#Establish which categories will appear when hovering over each node\n",
    "HOVER_TOOLTIPS = [(\"Philosopher\", \"@index\"), (\"Degree\", \"@degree\"), (\"Nationality\", \"@nationality\")]\n",
    "\n",
    "#Create a plot — set dimensions, toolbar, and title\n",
    "plot = figure(tooltips = HOVER_TOOLTIPS,\n",
    "              tools=\"pan,wheel_zoom,save,reset\", active_scroll='wheel_zoom',\n",
    "            x_range=Range1d(-240, 280), y_range=Range1d(-200, 200), toolbar_location=None,\n",
    "             plot_width=1450, plot_height=700)\n",
    "\n",
    "# Turn off ticks ######################################################################################################\n",
    "plot.xaxis.major_tick_line_color = None  # turn off x-axis major ticks\n",
    "plot.xaxis.minor_tick_line_color = None  # turn off x-axis minor ticks\n",
    "\n",
    "plot.yaxis.major_tick_line_color = None  # turn off y-axis major ticks\n",
    "plot.yaxis.minor_tick_line_color = None  # turn off y-axis minor ticks\n",
    "\n",
    "plot.xaxis.major_label_text_font_size = '0pt'  # turn off x-axis tick labels\n",
    "plot.yaxis.major_label_text_font_size = '0pt'  # turn off y-axis tick labels\n",
    "######################################################################################################################\n",
    "\n",
    "\n",
    "#Create a network graph object with spring layout\n",
    "# https://networkx.github.io/documentation/networkx-1.9/reference/generated/networkx.drawing.layout.spring_layout.html\n",
    "network_graph = from_networkx(N, positions, scale=1, center=(0, 0))\n",
    "\n",
    "\n",
    "#Set node sizes and colors according to node degree (color as spectrum of color palette)\n",
    "minimum_value_color = min(network_graph.node_renderer.data_source.data[color_by_this_attribute])\n",
    "maximum_value_color = max(network_graph.node_renderer.data_source.data[color_by_this_attribute])\n",
    "network_graph.node_renderer.glyph = Circle(size=size_by_this_attribute, fill_color=linear_cmap(color_by_this_attribute, Plasma10, minimum_value_color, maximum_value_color), line_width=0.1)\n",
    "\n",
    "#Set edge opacity and width\n",
    "network_graph.edge_renderer.glyph = MultiLine(line_alpha=0.07, line_width=0.5)\n",
    "\n",
    "#Add network graph to the plot\n",
    "plot.renderers.append(network_graph)\n",
    "\n",
    "\n",
    "network_graph.node_renderer.selection_glyph = Circle(\n",
    "   size = 25,\n",
    "   fill_color = Spectral4[2]\n",
    ")\n",
    "network_graph.node_renderer.hover_glyph = Circle(\n",
    "   size = 20,\n",
    "   fill_color = Spectral4[1]\n",
    ")\n",
    "\n",
    "\n",
    "network_graph.edge_renderer.hover_glyph = MultiLine(\n",
    "   line_color = Spectral4[2],\n",
    "   line_width = 3,\n",
    ")\n",
    "\n",
    "\n",
    "network_graph.selection_policy = NodesAndLinkedEdges()\n",
    "# network_graph.inspection_policy = EdgesAndLinkedNodes()\n",
    "\n",
    "plot.renderers.append(network_graph)\n",
    "\n",
    "plot.background_fill_alpha = 0\n",
    "\n",
    "save(plot, filename=f\"{title}.html\")"
   ]
  },
  {
   "cell_type": "markdown",
   "metadata": {},
   "source": [
    "### Comments about the nationality plot"
   ]
  },
  {
   "cell_type": "markdown",
   "metadata": {},
   "source": [
    "As it was expected, the plot shows that there are some patterns in the graph, according to the data about the relations and the nationalities. The most relevant patterns that can be observed in the plot will be commented below.\n",
    "\n",
    "First of all, it can be observed that most of the largest dots (i.e. most connected philosophers) are located in the center of the network and are coloured in dark violet. All of these philosophers are german, and they are located in the center of the network, since they have relationship - in general - with all the others nationalities. It is worth thinking that the german philosophers are linked pretty much to all the others nationalities, since the german philosophers, such as Kant, Marx, Hegel influenced a lot of philosophers, and were influenced by a lot of philosophers.\n",
    "\n",
    "Among the german philosophers, it is worth looking in particular at marx - one of the dark violet nodes in the centre-left of the network (going with the cursor on the nodes it is possible to visualize the information about each node). Marx is positioned in the middle between german philosophers and russian philosopher. Marx - as a father of the communism - inspired a lot of russian writers and philosophers (marked in yellow and located in the bottom left side of the network).\n",
    "\n",
    "Moreover, at the bottom left side there is a small group of isolated orange nodes. Those are the chinese philosophers, that have very small connections with philosophers other than chinese. The chinese philosophers did not influence massively any other cultures with their thoughts, hence they are linked between them, but isolated with respect to other countries.\n",
    "\n",
    "In the top left side there are the classic philosophers: roman and greek. As already mentioned, the relationship between these two nationalities is indissoluble and the influences between group of philosophers remarkable. Most of the school of thoughts were shared betweem roman and greek, and the cultures were very close, also because the historical age is the same. For this reason they form a cloud of dark-yellow and dark-orange dots in the left.\n",
    "\n",
    "Eventually on the right side of the plot british and american philosophers also form a clodud, that represent the anglo-saxon side of the philosophers."
   ]
  },
  {
   "cell_type": "markdown",
   "metadata": {},
   "source": [
    "### Conclusion\n",
    "\n",
    "The project shows how much an analyzing a network can tell about a topic. The more information, attributes, and features are given to the network, the more are the insights that can be detected in terms of relations between entities."
   ]
  },
  {
   "cell_type": "code",
   "execution_count": null,
   "metadata": {},
   "outputs": [],
   "source": []
  }
 ],
 "metadata": {
  "kernelspec": {
   "display_name": "Python 3",
   "language": "python",
   "name": "python3"
  },
  "language_info": {
   "codemirror_mode": {
    "name": "ipython",
    "version": 3
   },
   "file_extension": ".py",
   "mimetype": "text/x-python",
   "name": "python",
   "nbconvert_exporter": "python",
   "pygments_lexer": "ipython3",
   "version": "3.8.3"
  }
 },
 "nbformat": 4,
 "nbformat_minor": 4
}
