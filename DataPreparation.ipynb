{
 "cells": [
  {
   "cell_type": "code",
   "execution_count": 2,
   "metadata": {},
   "outputs": [],
   "source": [
    "import re\n",
    "import requests\n",
    "import json\n",
    "import pandas as pd\n",
    "import urllib\n",
    "\n",
    "import re\n",
    "import requests\n",
    "import json\n",
    "import pandas as pd\n",
    "import numpy as np\n",
    "import os\n",
    "import nltk\n",
    "import string\n",
    "import gensim\n",
    "from collections import defaultdict\n",
    "\n",
    "pd.set_option('display.max_colwidth', None)\n",
    "path = \"C://Users//ALESSANDRO//Desktop//Social Graphs and interactions//project//philosophers_pages//\""
   ]
  },
  {
   "cell_type": "markdown",
   "metadata": {},
   "source": [
    "# Data extraction and preparation\n",
    "\n",
    "The following project is based on the analysis of *the Network of philosophers*, built up on philosopher data mainly taken from [Wikipedia.com](https://wikipedia.com). From the wiki pages of the philosophers are taken information to build the graphs (nodes and edges), but also additional features that will be used as labels for the entities of the graph, in order to make the analysis more effective. Minor information, in particular quotes written under the posts of users, are taken from [Instagram](https://instagram.com).\n",
    "\n",
    "## Table of content\n",
    "\n",
    "1. Download of philosophers pages from Wikipedia\n",
    "2. scraping of the nationalities of philosophers\n",
    "3. Scraping of centuries of philosophers\n",
    "4. Scraping of tag words of philosophers\n",
    "5. Scraping of topics and fields of research of philosophers\n",
    "6. scraping of instagram pages of philosophers"
   ]
  },
  {
   "cell_type": "markdown",
   "metadata": {},
   "source": [
    "## 1. Downloading of the philosophers pages from Wikipedia\n",
    "\n",
    "The main data source of the notebook is composed by the *corpus* of all the **philosophers pages** of wikipedia. In order to download the philosophers page, a web scraping **API** will be used. The web scraping API that has been developed in order to download the philosophers names and pages is similar to the one used during the course (*Social Graphs and interactions*).\n",
    "\n",
    "### Parse list of philosophers\n",
    "\n",
    "[Wikipedia's Lists of philosophers](https://en.wikipedia.org/wiki/Lists_of_philosophers) contains alphabetical lists of all the philosophers. The first step is retrieving the list of names philosophers from these pages, and then discard the philosophers that do not have their individual pages."
   ]
  },
  {
   "cell_type": "code",
   "execution_count": 3,
   "metadata": {},
   "outputs": [],
   "source": [
    "# general_link_Philosophers = 'https://en.wikipedia.org/wiki/Lists_of_philosophers'\n",
    "# link for philosophers' pages: 'https://en.wikipedia.org/wiki/{{ PHILOSOPHER'S NAME }}'\n",
    "\n",
    "# this is the array with all the wiki pages of the philosophers\n",
    "list_of_phil = [\n",
    "                'List of philosophers (A–C)',\n",
    "                'List of philosophers (D–H)',\n",
    "                'List of philosophers (I–Q)',\n",
    "                'List of philosophers (R–Z)'\n",
    "                ]\n",
    "\n",
    "# this creates the query to the wiki\n",
    "def create_query(page_title):\n",
    "    \"\"\"Creates a URL to make a query to retrieve content of \n",
    "    wikipedia page of the given title\n",
    "\n",
    "    Parameters\n",
    "    ----------\n",
    "    page_title : str\n",
    "       Title of the page whose content we want to query\n",
    "\n",
    "    Returns\n",
    "    ---------\n",
    "    str\n",
    "       URL to wikipedia API which can be used for querying content of page with\n",
    "       given title\n",
    "    \"\"\"\n",
    "    base_url_api = \"https://en.wikipedia.org/w/api.php\"\n",
    "    action = \"action=query\"\n",
    "    props = \"prop=revisions&rvprop=content&rvslots=*\"\n",
    "    dataformat = \"format=json\"\n",
    "    titles = \"titles=%s\" % urllib.parse.quote_plus(page_title.replace(\" \", \"_\"))\n",
    "    query = \"%s?%s&%s&%s&%s\" % (base_url_api, action, titles, props, dataformat)\n",
    "    return query\n",
    "\n",
    "# this send the query to the api and gets back the text of each page \n",
    "def query_wiki_page(query):\n",
    "    \"\"\"Makes a query to a wiki page and retrieves its content\n",
    "\n",
    "    Parameters\n",
    "    ----------\n",
    "    page_title : str\n",
    "       Title of the page whose content we want to query\n",
    "\n",
    "    Raises\n",
    "    ---------\n",
    "    Exception\n",
    "       If zero or more than 1 page was returned from query\n",
    "\n",
    "    Returns\n",
    "    ---------\n",
    "    (str, bool)\n",
    "       A tuple containing:\n",
    "       - Content of the page in wikitext format\n",
    "       - Boolean value which is true if page exists and false if it is missing\n",
    "\n",
    "    \"\"\"\n",
    "    response = requests.get(query)\n",
    "    wikidata = response.text\n",
    "    wikitext = json.loads(wikidata)\n",
    "\n",
    "    # Make sure `query.pages` contains only one entry. Raise exception otherwise\n",
    "    pages = wikitext[\"query\"][\"pages\"]\n",
    "    if (len(pages) != 1):\n",
    "        raise Exception(\"Expected one page, but query returned %d. Double check the page_title.\" % len(pages))\n",
    "\n",
    "    # Now that we know that only one page was queried, we can retrieve its number\n",
    "    page_num = list(pages.keys())[0]\n",
    "\n",
    "    # If page_num == -1, it means that page does not exists\n",
    "    if (page_num == \"-1\"):\n",
    "      return None, False\n",
    "\n",
    "    content = pages[page_num][\"revisions\"][0][\"slots\"][\"main\"][\"*\"]\n",
    "    return content, True"
   ]
  },
  {
   "cell_type": "markdown",
   "metadata": {},
   "source": [
    "A regular expression is now used in order to get the philosophers name. The pattern used to match the philosophers names is:\n",
    "\n",
    "    pattern = \"/\\/[/\\/[(.*?)(?:\\|.*?)?\\]\\] (?:/\\/(or.*?\\),? )?\\/((.*?)\\)\"\n",
    "\n",
    "The pattern takes the substrings of the text that is contained between the double bracket `[[ ]]`, and if the bracket contain the symbol `|`, it also takes into account the text that is contained after that symbol"
   ]
  },
  {
   "cell_type": "code",
   "execution_count": 4,
   "metadata": {},
   "outputs": [],
   "source": [
    "# this uses a regular expression to get the philosopher names, so what exists between `[[ ]]` and in case it has `|` it takes it into consideration as well\n",
    "def find_phil_names(text):\n",
    "\n",
    "    # First, remove the top and bottom part of the page which contain other links\n",
    "    # thank the list of philosophers\n",
    "    pattern_bottom = \"TOC top\"\n",
    "    position_bottom = text.find(pattern_bottom)\n",
    "    text = text[:position_bottom]\n",
    "\n",
    "    pattern_top = \"==\"\n",
    "    position_top = text.find(pattern_top)\n",
    "    text = text[position_top:]\n",
    "\n",
    "    pattern = \"\\[\\[(.*?)(?:\\|.*?)?\\]\\] (?:\\(or.*?\\),? )?\\((.*?)\\)\"\n",
    "    matches = re.findall(pattern, text)\n",
    "    return matches"
   ]
  },
  {
   "cell_type": "markdown",
   "metadata": {},
   "source": [
    "A list with the philosophers names is built from the query that has been developed. The output of the block of code below is a dataframe with the names of the philosophers, with Birth and death dates."
   ]
  },
  {
   "cell_type": "code",
   "execution_count": 5,
   "metadata": {},
   "outputs": [
    {
     "data": {
      "text/html": [
       "<div>\n",
       "<style scoped>\n",
       "    .dataframe tbody tr th:only-of-type {\n",
       "        vertical-align: middle;\n",
       "    }\n",
       "\n",
       "    .dataframe tbody tr th {\n",
       "        vertical-align: top;\n",
       "    }\n",
       "\n",
       "    .dataframe thead th {\n",
       "        text-align: right;\n",
       "    }\n",
       "</style>\n",
       "<table border=\"1\" class=\"dataframe\">\n",
       "  <thead>\n",
       "    <tr style=\"text-align: right;\">\n",
       "      <th></th>\n",
       "      <th>Name</th>\n",
       "      <th>Birth/death dates</th>\n",
       "    </tr>\n",
       "  </thead>\n",
       "  <tbody>\n",
       "    <tr>\n",
       "      <th>0</th>\n",
       "      <td>Aaron Ben-Ze'ev</td>\n",
       "      <td>born 1949</td>\n",
       "    </tr>\n",
       "    <tr>\n",
       "      <th>1</th>\n",
       "      <td>Abd al-Jabiri</td>\n",
       "      <td>born 1935</td>\n",
       "    </tr>\n",
       "    <tr>\n",
       "      <th>2</th>\n",
       "      <td>Abd al-Latif al-Baghdadi</td>\n",
       "      <td>1162-1231</td>\n",
       "    </tr>\n",
       "    <tr>\n",
       "      <th>3</th>\n",
       "      <td>Abdolkarim Soroush</td>\n",
       "      <td>born 1945</td>\n",
       "    </tr>\n",
       "    <tr>\n",
       "      <th>4</th>\n",
       "      <td>Abdullah Laroui</td>\n",
       "      <td>born 1935</td>\n",
       "    </tr>\n",
       "  </tbody>\n",
       "</table>\n",
       "</div>"
      ],
      "text/plain": [
       "                       Name Birth/death dates\n",
       "0           Aaron Ben-Ze'ev         born 1949\n",
       "1             Abd al-Jabiri         born 1935\n",
       "2  Abd al-Latif al-Baghdadi         1162-1231\n",
       "3        Abdolkarim Soroush         born 1945\n",
       "4           Abdullah Laroui         born 1935"
      ]
     },
     "execution_count": 5,
     "metadata": {},
     "output_type": "execute_result"
    }
   ],
   "source": [
    "# here we are creating a list of philosophers' names\n",
    "list_of_all_phil = []\n",
    "\n",
    "for i in list_of_phil:\n",
    "    list_of_all_phil = list_of_all_phil + find_phil_names(query_wiki_page(create_query(i))[0])\n",
    "\n",
    "# creating a DataFrame and doing some operations on it \n",
    "df = pd.DataFrame(list_of_all_phil, columns=['Name', 'Birth/death dates'])\n",
    "df.drop_duplicates(subset =\"Name\", inplace = True, ignore_index= True)\n",
    "df = df.sort_values('Name')\n",
    "df.reset_index(inplace=True, drop=True)\n",
    "df.head()"
   ]
  },
  {
   "cell_type": "markdown",
   "metadata": {},
   "source": [
    "### Download the philosophers pages\n",
    "\n",
    "From the list that has been built, for each philosopher it is scraped the wikipedia page and it is saved in a `.txt` file. In the [GitHub repository](https://github.com/aristofanischionis/PhilosophersPageNotebook) is possible to see and download all the philosophers pages, as well as the `.csv` file with the names of the philosophers."
   ]
  },
  {
   "cell_type": "code",
   "execution_count": null,
   "metadata": {},
   "outputs": [],
   "source": [
    "import os\n",
    "\n",
    "non_existing_philosophers = []\n",
    "\n",
    "# Create a subdirectory where we will store data if it does not exist\n",
    "philosophers_pages_dir = 'philosophers_pages'\n",
    "if not os.path.exists(philosophers_pages_dir):\n",
    "    os.makedirs(philosophers_pages_dir)\n",
    "\n",
    "def save_philosopher_page(philosopher_name, page_name):\n",
    "    philosopher_page, exists = query_wiki_page(create_query(page_name))\n",
    "\n",
    "    if not exists:\n",
    "        non_existing_philosophers.append(philosopher_name)\n",
    "    return\n",
    "\n",
    "    # If page redirects to a different page, save that page instead\n",
    "    pattern = r\"#REDIRECT \\[\\[(.*?)\\]\\]\"\n",
    "    page_to_redirect = re.match(pattern, philosopher_page)\n",
    "    if page_to_redirect:\n",
    "        save_philosopher_page(philosopher_name, page_to_redirect.groups()[0])\n",
    "        return\n",
    "    with open(\"%s/%s.txt\" % (philosophers_pages_dir, philosopher_name.replace(\" \", \"_\").replace(\"\\\"\", \"\")), \"w\", encoding=\"utf-8\") as f:\n",
    "        f.write(philosopher_page)\n",
    "\n",
    "    for philosopher in df.loc[:, 'Name']:\n",
    "        save_philosopher_page(philosopher, philosopher)\n",
    "\n",
    "save_philosophers_pages()"
   ]
  },
  {
   "cell_type": "markdown",
   "metadata": {},
   "source": [
    "### Remove philosophers without pages and save to CSV\n",
    "\n",
    "Before saving the dataset in the file `philosophers.csv`, which is available in the repository [GitHub repository](https://github.com/aristofanischionis/PhilosophersPageNotebook), the philosophers without wikipedia pages will be removed."
   ]
  },
  {
   "cell_type": "code",
   "execution_count": null,
   "metadata": {},
   "outputs": [],
   "source": [
    "df = df[~df['Name'].isin(non_existing_philosophers)]\n",
    "df.reset_index(inplace=True, drop=True)\n",
    "df.to_csv('philosophers.csv', index=False, encoding='utf-8')"
   ]
  },
  {
   "cell_type": "markdown",
   "metadata": {},
   "source": [
    "## 2. Scraping the nationality of the philosophers"
   ]
  },
  {
   "cell_type": "markdown",
   "metadata": {},
   "source": [
    "### Motivation\n",
    "\n",
    "It is well known that some countries have strong traditions related to philosophy. Ancient Grece, as birth place of the philosophy, Italy, Germany have all diofferent cultures and traditions related to the philosophy. Investigating and analyzing the nationality of the philosophers is hence a crucial step in order to have a complete overview of the philosophers. Labelling the phuilosophers based on their nationality will hence help the analysis, in order to understand how philosophers of different nationalities interacted between each other. For instance, it is interesting to visualize how the philosophers from one country are connected between each, but also how they are connected with philosophers of other nationalities. This will show how the different thoughts and cultures intersected between each others.\n",
    "\n",
    "The analysis about the nationalities of the philosophers will also show interesting information about the relationships between countries in different ages. In fact, normally different currents in countries took place in different ages. The philosophical *trend* took place in the ancient greece and it declined in the first century A.D. It is expected that in the network most of the connections will be with philosophers - for instance - coming from the ancient Rome, or jewish. On the other hand, it is expected to see that french and british philosophers will be connected, since both of them influence each others starting from the age of the Illuminism. \n",
    "\n",
    "In order to analyze the information about the *nationalities*, a new dataset should be built. The information will be taken from the introduction page of the philosophers, already scraped in another section of the project. \n",
    "\n",
    "When analyzing the introduction pages of the philosophers, it has been noticed that the information about the nationality of a philosopher is contained in almost all the pages of Wikipedia. Therefore, the introduction page will be used also in this section"
   ]
  },
  {
   "cell_type": "markdown",
   "metadata": {},
   "source": [
    "### Data collection"
   ]
  },
  {
   "cell_type": "markdown",
   "metadata": {},
   "source": [
    "First, the libraries that are going to be used in this section are uploaded. The path variable is declared and the list of all the philosophers is taken. Moreover, the introduction of each philosopher is extracted from the page, as explained in the section in which the *tagwords* have been extracted"
   ]
  },
  {
   "cell_type": "code",
   "execution_count": 6,
   "metadata": {},
   "outputs": [
    {
     "name": "stdout",
     "output_type": "stream",
     "text": [
      "Total number of philosofers:  1732\n"
     ]
    }
   ],
   "source": [
    "import re\n",
    "import requests\n",
    "import json\n",
    "import pandas as pd\n",
    "import numpy as np\n",
    "\n",
    "pd.set_option('display.max_colwidth', None)\n",
    "path = \"C://Users//ALESSANDRO//Desktop//Social Graphs and interactions//project//philosophers_pages//\"\n",
    "\n",
    "philosophers = pd.read_csv(path+\"philosophers.csv\")\n",
    "\n",
    "list_of_all_phil = list(philosophers[\"File name\"])\n",
    "print(\"Total number of philosofers: \", len(list_of_all_phil))\n",
    "\n",
    "def take_introduction(list_of_all_phil):\n",
    "    text = []\n",
    "    for i in list_of_all_phil:\n",
    "\n",
    "        file = open(path+i, \"r\", encoding=\"utf-8\")\n",
    "        phil_description = file.read()\n",
    "        pattern_name = \"\\'\\'\\'(.*?)\\'\\'\\'(.*?)\\n\"\n",
    "        name = re.findall(pattern_name, phil_description)\n",
    "        text.append(name)\n",
    "        \n",
    "#         # split the words into a list\n",
    "#         T = []\n",
    "#         for i in text:\n",
    "#             T.append(i.split())\n",
    "    return text\n",
    "\n",
    "\n",
    "text = take_introduction(list_of_all_phil)"
   ]
  },
  {
   "cell_type": "markdown",
   "metadata": {},
   "source": [
    "The information scraped so far are then stored in a dataset called `df_intros_nat` "
   ]
  },
  {
   "cell_type": "code",
   "execution_count": 7,
   "metadata": {},
   "outputs": [
    {
     "data": {
      "text/html": [
       "<div>\n",
       "<style scoped>\n",
       "    .dataframe tbody tr th:only-of-type {\n",
       "        vertical-align: middle;\n",
       "    }\n",
       "\n",
       "    .dataframe tbody tr th {\n",
       "        vertical-align: top;\n",
       "    }\n",
       "\n",
       "    .dataframe thead th {\n",
       "        text-align: right;\n",
       "    }\n",
       "</style>\n",
       "<table border=\"1\" class=\"dataframe\">\n",
       "  <thead>\n",
       "    <tr style=\"text-align: right;\">\n",
       "      <th></th>\n",
       "      <th>philosopher</th>\n",
       "      <th>text</th>\n",
       "    </tr>\n",
       "  </thead>\n",
       "  <tbody>\n",
       "    <tr>\n",
       "      <th>0</th>\n",
       "      <td>Aaron_Ben-Ze'ev.txt</td>\n",
       "      <td>[(Aaron Ben-Ze'ev,  ('''אהרון בן-זאב'''; born 30 July 1949) is an Israeli philosopher. He was President of the [[University of Haifa]] from 2004 to 2012.)]</td>\n",
       "    </tr>\n",
       "    <tr>\n",
       "      <th>1</th>\n",
       "      <td>Abd_al-Latif_al-Baghdadi.txt</td>\n",
       "      <td>[(ʿAbd al-Laṭīf al-Baghdādī,  ({{lang-ar|عبداللطيف البغدادي}}, 1162 [[Baghdad]]–1231 Baghdad), short for '''Muwaffaq al-Dīn Muḥammad ʿAbd al-Laṭīf ibn Yūsuf al-Baghdādī''' ({{lang-ar|موفق الدين محمد عبد اللطيف بن يوسف البغدادي}}), was a [[Islamic medicine|physician]], philosopher, [[Historiography of early Islam|historian]], [[Arabic grammar]]ian and traveler, and one of the most voluminous writers in the [[Near East]] of his time.&lt;ref&gt;[[Chambers Biographical Dictionary]], {{ISBN|0-550-18022-2}}, page 3&lt;/ref&gt;)]</td>\n",
       "    </tr>\n",
       "  </tbody>\n",
       "</table>\n",
       "</div>"
      ],
      "text/plain": [
       "                    philosopher  \\\n",
       "0           Aaron_Ben-Ze'ev.txt   \n",
       "1  Abd_al-Latif_al-Baghdadi.txt   \n",
       "\n",
       "                                                                                                                                                                                                                                                                                                                                                                                                                                                                                                                                   text  \n",
       "0                                                                                                                                                                                                                                                                                                                                                                           [(Aaron Ben-Ze'ev,  ('''אהרון בן-זאב'''; born 30 July 1949) is an Israeli philosopher. He was President of the [[University of Haifa]] from 2004 to 2012.)]  \n",
       "1  [(ʿAbd al-Laṭīf al-Baghdādī,  ({{lang-ar|عبداللطيف البغدادي}}, 1162 [[Baghdad]]–1231 Baghdad), short for '''Muwaffaq al-Dīn Muḥammad ʿAbd al-Laṭīf ibn Yūsuf al-Baghdādī''' ({{lang-ar|موفق الدين محمد عبد اللطيف بن يوسف البغدادي}}), was a [[Islamic medicine|physician]], philosopher, [[Historiography of early Islam|historian]], [[Arabic grammar]]ian and traveler, and one of the most voluminous writers in the [[Near East]] of his time.<ref>[[Chambers Biographical Dictionary]], {{ISBN|0-550-18022-2}}, page 3</ref>)]  "
      ]
     },
     "execution_count": 7,
     "metadata": {},
     "output_type": "execute_result"
    }
   ],
   "source": [
    "df_intros_nat = pd.DataFrame()\n",
    "df_intros_nat[\"philosopher\"] = list_of_all_phil\n",
    "df_intros_nat[\"text\"] = text\n",
    "\n",
    "df_intros_nat.head(2)"
   ]
  },
  {
   "cell_type": "markdown",
   "metadata": {},
   "source": [
    "As described in the section `tagwords`, the text is cleaned thanks to the usage of the regular expressions in order to find relevant patterns of text that will not be useful in the extraction of the nationalities.\n",
    "\n",
    "The process of the usage of the regular expressions is not going to be described here, since it is the same as the *tagwords* section"
   ]
  },
  {
   "cell_type": "code",
   "execution_count": 8,
   "metadata": {},
   "outputs": [],
   "source": [
    "Text = []\n",
    "for i in text:\n",
    "    if i != []:\n",
    "        Text.append(str(i[0]))\n",
    "    else:\n",
    "        Text.append(\"\")\n",
    "\n",
    "pattern_date = \"\\((.*?)\\)\"              # pattern birth date \n",
    "pattern_name = \"\\'\\'\\'(.*?)\\'\\'\\'\"      # pattern name of the philosopher\n",
    "pattern_ref = \"<ref ?(.*?)>(.*?)</ref>\" # pattern links\n",
    "pattern_slash = \"\\\\\\'\"                  # pattern slashes\n",
    "\n",
    "pattern_par = \"\\(|\\)\"                   # Pattern parenthesis\n",
    "pattern_virg = \"<(.*?)>\"                # Pattern quotes\n",
    "\n",
    "text = []\n",
    "for i in Text:\n",
    "    mod = re.sub(pattern_date, \"\", i)\n",
    "    mod = re.sub(pattern_name, \"\", mod)\n",
    "    mod = re.sub(pattern_ref, \"\", mod)\n",
    "    mod = re.sub(pattern_slash, \"\", mod)\n",
    "    mod = re.sub(pattern_par, \"\", mod)\n",
    "    mod = re.sub(pattern_virg, \"\", mod)\n",
    "    text.append(mod)\n",
    "    \n",
    "    \n",
    "pattern_brackets = \"\\[\\[(.*?)\\]\\]\"\n",
    "\n",
    "Text = []\n",
    "for i in text:\n",
    "    mod = re.findall(pattern_brackets, i.lower())\n",
    "\n",
    "    s = i.lower()\n",
    "    for j in mod:\n",
    "        if \"|\" in j:\n",
    "            y = j.rpartition('|')[2]\n",
    "            k = \"[[\"+j+\"]]\"\n",
    "            s = s.replace(k, y)\n",
    "    Text.append(s)\n",
    "    \n",
    "    \n",
    "text = []\n",
    "for i in Text:\n",
    "    mod = re.sub(\"\\[|\\]\", \"\", i)\n",
    "    text.append(mod)"
   ]
  },
  {
   "cell_type": "code",
   "execution_count": 12,
   "metadata": {},
   "outputs": [],
   "source": [
    "df_intros_nat[\"preprocess_text\"] = text"
   ]
  },
  {
   "cell_type": "markdown",
   "metadata": {},
   "source": [
    "In order to extract the information about the nationalities of the countries, a set object with the most relevant nationalities contained in the dataset has been developed. The set has been written by hand, since it has not found any relevant corpus of  *nationalities*. The reason why it has been decided to consider nationalities instead of countries is that the introduction page of the philosophers (and in general of all the wikipedia pages about people) have the following form:\n",
    "\n",
    "\" *Name of the person* (*Birth place*, *Birth date* - Death place*, *Death date*) is/was a *nationality* *profession* \"\n",
    "\n",
    "Therefore it will be very easy to extract the information about the nationality by matching the nationalities that have been included in the set and the introduction page of the philosopher.\n",
    "\n",
    "Moreover, the set `nationalities` built, that is displyed in the followign cell, also includes merged nationalities, such as *mericanbritish*, *argentinecanadian*. \n",
    "\n",
    "The set has been built by going through the text and finding the relevant names. It has been decided not to use a regular expression in order to extract the nationality name, since it has been noticed that the structure of the text is too different from one philosopher to another, so it would have been quicker and more accurate to take the information by hand.\n",
    "\n",
    "With the firsts 10 nationalities of the set, it is possible to assign a nationality to the largest part of the dataset. The following nationalities only have less philosophers. The analysis of the distribution of the philosophers in different countries will be done in the following sections."
   ]
  },
  {
   "cell_type": "code",
   "execution_count": 70,
   "metadata": {},
   "outputs": [],
   "source": [
    "nationalities = set([\"american\", \"greek\", \"arabic\", \"french\", \"italian\", \"german\", \"english\",\n",
    "                     \"indian\", \"chinese\", \"japanese\", \"israeli\", \"iranian\", \"maroccan\", \"saudi\", \n",
    "                     \"frenchgerman\", \"jewish\", \"egyptian\", \"hungarian\", \"persian\", \"arabian\", \"hellenistic\",\n",
    "                     \"brazilian\", \"scottish\", \"germanamerican\", \"mexican\", \"arab\", \"scottishamerican\", \n",
    "                     \"british\", \"peruvian\", \"argentine\", \"russian\", \"soviet\", \"australian\", \"polishamerican\",\n",
    "                     \"bielorussian\", \"bissaguinean\", \"swedish\", \"danish\", \"norwegian\", \"roman\", \"zealand\",\n",
    "                     \"cyrenaic\", \"portuguese\", \"athenian\", \"swiss\", \"swissborn\", \"dutch\", \"numidian\",\n",
    "                     \"lebanese\", \"polish\", \"burgundian\", \"sanskrit\", \"serbian\", \"argentinian\", \"lombard\",\n",
    "                     \"genevan\", \"canadian\", \"austrian\", \"czech\",\"norwegianamerican\", \"americanbritish\",\n",
    "                     \"canadianamerican\", \"african\", \"georgian\", \"spanish\", \"austrian\", \"finnish\", \"chilen\",\n",
    "                     \"austrianirish\", \"germanjewish\", \"austrohungarian\", \"austrianborn\", \"francoamerican\",\n",
    "                     \"frenchamerican\", \"italianamerican\", \"latin\", \"tibetan\", \"chineseamerican\",\n",
    "                     \"italianjewish\", \"andalusi\", \"americanborn\", \"spanishborn\", \"korean\", \"swissfrench\",\n",
    "                     \"germandanish\", \"irish\", \"flamish\", \"belgian\", \"catalan\", \"hungarianamerican\",\n",
    "                     \"armenian\", \"germanswiss\", \"czechaustrian\", \"indian\", \"venezuelan\", \"argentinecanadian\",\n",
    "                     \"britishamerican\", \"frenchbrazilian\", \"croatian\", \"romanian\", \"slovenianyugoslavian\",\n",
    "                     \"bizantine\", \"england\", \"indian\", \"china\", \"austrianamerican\", \"welsh\",\n",
    "                     \"zealand-born\", \"angloirish\", \"pakistani\"])"
   ]
  },
  {
   "cell_type": "markdown",
   "metadata": {},
   "source": [
    "### Text processing\n",
    "\n",
    "The text processing phase is conducted in the same way as it has been already done when applying the tf idf model to find the tagwords. The difference in this section is that the nationalities will not be removed from the text, as it has been done in that part.\n",
    "\n",
    "Therefore, also in this case, the code will not be described in detail, as the block of code is exactly the same as previously."
   ]
  },
  {
   "cell_type": "code",
   "execution_count": 17,
   "metadata": {},
   "outputs": [
    {
     "name": "stderr",
     "output_type": "stream",
     "text": [
      "[nltk_data] Downloading package wordnet to\n",
      "[nltk_data]     C:\\Users\\ALESSANDRO\\AppData\\Roaming\\nltk_data...\n",
      "[nltk_data]   Package wordnet is already up-to-date!\n"
     ]
    }
   ],
   "source": [
    "from sklearn.feature_extraction import stop_words\n",
    "\n",
    "stopwords = set(stop_words.ENGLISH_STOP_WORDS)\n",
    "stopwords.add(\"philosophy\")\n",
    "stopwords.add(\"philosopher\")\n",
    "stopwords.add(\"philosophers\")\n",
    "\n",
    "\n",
    "import string\n",
    "from nltk.stem import WordNetLemmatizer\n",
    "lemmatizer = WordNetLemmatizer()\n",
    "\n",
    "\n",
    "def text_processing(text):\n",
    "    # remove punctuation \n",
    "    text = \"\".join([c for c in text \n",
    "                    if c not in string.punctuation])\n",
    "    # lowercase\n",
    "    text = \"\".join([c.lower() for c in text])\n",
    "    # remove stopwords\n",
    "    text = \" \".join([w for w in text.split() \n",
    "                     if w not in stopwords])\n",
    "    # stemming / lematizing (optional)\n",
    "    text = \" \".join([lemmatizer.lemmatize(w) for w in text.split()])\n",
    "    return text\n",
    "\n",
    "import nltk\n",
    "nltk.download(\"wordnet\")\n",
    "Text = []\n",
    "for i in text:\n",
    "    Text.append(text_processing(i))\n",
    "    \n",
    "df_intros_nat[\"text_clean\"] = Text"
   ]
  },
  {
   "cell_type": "code",
   "execution_count": 18,
   "metadata": {},
   "outputs": [],
   "source": [
    "T = []\n",
    "for i in Text:\n",
    "    T.append(i.split())\n",
    "    \n",
    "df_intros_nat[\"T\"] = T"
   ]
  },
  {
   "cell_type": "code",
   "execution_count": 21,
   "metadata": {},
   "outputs": [
    {
     "data": {
      "text/html": [
       "<div>\n",
       "<style scoped>\n",
       "    .dataframe tbody tr th:only-of-type {\n",
       "        vertical-align: middle;\n",
       "    }\n",
       "\n",
       "    .dataframe tbody tr th {\n",
       "        vertical-align: top;\n",
       "    }\n",
       "\n",
       "    .dataframe thead th {\n",
       "        text-align: right;\n",
       "    }\n",
       "</style>\n",
       "<table border=\"1\" class=\"dataframe\">\n",
       "  <thead>\n",
       "    <tr style=\"text-align: right;\">\n",
       "      <th></th>\n",
       "      <th>philosopher</th>\n",
       "      <th>text</th>\n",
       "      <th>preprocess_text</th>\n",
       "      <th>text_clean</th>\n",
       "      <th>T</th>\n",
       "    </tr>\n",
       "  </thead>\n",
       "  <tbody>\n",
       "    <tr>\n",
       "      <th>0</th>\n",
       "      <td>Aaron_Ben-Ze'ev.txt</td>\n",
       "      <td>[(Aaron Ben-Ze'ev,  ('''אהרון בן-זאב'''; born 30 July 1949) is an Israeli philosopher. He was President of the [[University of Haifa]] from 2004 to 2012.)]</td>\n",
       "      <td>is an israeli philosopher. he was president of the university of haifa from 2004 to 2012.\"</td>\n",
       "      <td>israeli president university haifa 2004 2012</td>\n",
       "      <td>[israeli, president, university, haifa, 2004, 2012]</td>\n",
       "    </tr>\n",
       "    <tr>\n",
       "      <th>1</th>\n",
       "      <td>Abd_al-Latif_al-Baghdadi.txt</td>\n",
       "      <td>[(ʿAbd al-Laṭīf al-Baghdādī,  ({{lang-ar|عبداللطيف البغدادي}}, 1162 [[Baghdad]]–1231 Baghdad), short for '''Muwaffaq al-Dīn Muḥammad ʿAbd al-Laṭīf ibn Yūsuf al-Baghdādī''' ({{lang-ar|موفق الدين محمد عبد اللطيف بن يوسف البغدادي}}), was a [[Islamic medicine|physician]], philosopher, [[Historiography of early Islam|historian]], [[Arabic grammar]]ian and traveler, and one of the most voluminous writers in the [[Near East]] of his time.&lt;ref&gt;[[Chambers Biographical Dictionary]], {{ISBN|0-550-18022-2}}, page 3&lt;/ref&gt;)]</td>\n",
       "      <td>, short for  , was a physician, philosopher, historian, arabic grammarian and traveler, and one of the most voluminous writers in the near east of his time.\"</td>\n",
       "      <td>short physician historian arabic grammarian traveler voluminous writer near east time</td>\n",
       "      <td>[short, physician, historian, arabic, grammarian, traveler, voluminous, writer, near, east, time]</td>\n",
       "    </tr>\n",
       "  </tbody>\n",
       "</table>\n",
       "</div>"
      ],
      "text/plain": [
       "                    philosopher  \\\n",
       "0           Aaron_Ben-Ze'ev.txt   \n",
       "1  Abd_al-Latif_al-Baghdadi.txt   \n",
       "\n",
       "                                                                                                                                                                                                                                                                                                                                                                                                                                                                                                                                   text  \\\n",
       "0                                                                                                                                                                                                                                                                                                                                                                           [(Aaron Ben-Ze'ev,  ('''אהרון בן-זאב'''; born 30 July 1949) is an Israeli philosopher. He was President of the [[University of Haifa]] from 2004 to 2012.)]   \n",
       "1  [(ʿAbd al-Laṭīf al-Baghdādī,  ({{lang-ar|عبداللطيف البغدادي}}, 1162 [[Baghdad]]–1231 Baghdad), short for '''Muwaffaq al-Dīn Muḥammad ʿAbd al-Laṭīf ibn Yūsuf al-Baghdādī''' ({{lang-ar|موفق الدين محمد عبد اللطيف بن يوسف البغدادي}}), was a [[Islamic medicine|physician]], philosopher, [[Historiography of early Islam|historian]], [[Arabic grammar]]ian and traveler, and one of the most voluminous writers in the [[Near East]] of his time.<ref>[[Chambers Biographical Dictionary]], {{ISBN|0-550-18022-2}}, page 3</ref>)]   \n",
       "\n",
       "                                                                                                                                                 preprocess_text  \\\n",
       "0                                                                     is an israeli philosopher. he was president of the university of haifa from 2004 to 2012.\"   \n",
       "1  , short for  , was a physician, philosopher, historian, arabic grammarian and traveler, and one of the most voluminous writers in the near east of his time.\"   \n",
       "\n",
       "                                                                              text_clean  \\\n",
       "0                                           israeli president university haifa 2004 2012   \n",
       "1  short physician historian arabic grammarian traveler voluminous writer near east time   \n",
       "\n",
       "                                                                                                   T  \n",
       "0                                                [israeli, president, university, haifa, 2004, 2012]  \n",
       "1  [short, physician, historian, arabic, grammarian, traveler, voluminous, writer, near, east, time]  "
      ]
     },
     "execution_count": 21,
     "metadata": {},
     "output_type": "execute_result"
    }
   ],
   "source": [
    "df_intros_nat.head(2)"
   ]
  },
  {
   "cell_type": "code",
   "execution_count": 27,
   "metadata": {},
   "outputs": [
    {
     "name": "stdout",
     "output_type": "stream",
     "text": [
      "The set of nationalities considered includes  109  elements\n"
     ]
    }
   ],
   "source": [
    "print(\"The set of nationalities considered includes \", len(nationalities), \" elements\")"
   ]
  },
  {
   "cell_type": "markdown",
   "metadata": {},
   "source": [
    "The following fuction assign a nationality to each philosopher. The function takes a list of lists containing the split text of each philosopher and it returns a list of strings containing the first nationality belonging to the set `nationalities` that occurs in the texts. If there are matches, the function append an empty string to the list.\n",
    "\n",
    "Eventually, a column containing the data about the nationalities is add to the dataset `df_intros_nat`."
   ]
  },
  {
   "cell_type": "code",
   "execution_count": 34,
   "metadata": {},
   "outputs": [],
   "source": [
    "def assign_nationality(T):\n",
    "\n",
    "    nationality = []\n",
    "\n",
    "    for i in T:\n",
    "        cont = 0\n",
    "        for c in nationalities:\n",
    "            if cont == 0:\n",
    "                if c in i:\n",
    "                    cont += 1 \n",
    "                    nationality.append(c)\n",
    "        if cont == 0:\n",
    "            nationality.append(\"\")\n",
    "    return nationality\n",
    "\n",
    "nationality = assign_nationality(T)\n",
    "\n",
    "df_intros_nat[\"nationality\"] = nationality"
   ]
  },
  {
   "cell_type": "code",
   "execution_count": 38,
   "metadata": {},
   "outputs": [
    {
     "name": "stdout",
     "output_type": "stream",
     "text": [
      "The number of philosophers with missing data about the nationality is  244\n"
     ]
    }
   ],
   "source": [
    "print(\"The number of philosophers with missing data about the nationality is \", df_intros_nat[df_intros_nat.nationality == \"\"].shape[0])"
   ]
  },
  {
   "cell_type": "markdown",
   "metadata": {},
   "source": [
    "The dataset is eventually esported to a `.csv` file in order to be used for the data analysis"
   ]
  },
  {
   "cell_type": "code",
   "execution_count": 69,
   "metadata": {},
   "outputs": [],
   "source": [
    "df_intros_nat.to_csv(\"C://Users//ALESSANDRO//Desktop//Social Graphs and interactions//project//nationalities.csv\")"
   ]
  },
  {
   "cell_type": "markdown",
   "metadata": {},
   "source": [
    "### Data analysis and statistics"
   ]
  },
  {
   "cell_type": "markdown",
   "metadata": {},
   "source": [
    "In this last paragraph the distribution of the nationalities will be discussed, in order to figure out how the philosophers are spreaded according to their nationality.\n",
    "\n",
    "In paricular, a bar char showing the amount of philosophers belonging to each nationality."
   ]
  },
  {
   "cell_type": "code",
   "execution_count": 96,
   "metadata": {},
   "outputs": [
    {
     "data": {
      "image/png": "[encoded data removed]",
      "text/plain": [
       "<Figure size 1440x504 with 1 Axes>"
      ]
     },
     "metadata": {},
     "output_type": "display_data"
    }
   ],
   "source": [
    "import matplotlib.pyplot as plt\n",
    "import seaborn as sns\n",
    "sns.set_style('darkgrid')\n",
    "\n",
    "font = {'family': 'serif',\n",
    "        'color':  'darkred',\n",
    "        'weight': 'normal',\n",
    "        'size': 14,\n",
    "        }\n",
    "\n",
    "font_title = {'family': 'serif',\n",
    "              'color':  'black',\n",
    "              'weight': 'normal',\n",
    "              'size': 50,\n",
    "            }\n",
    "\n",
    "fig = plt.figure(figsize=(20, 7))\n",
    "plt.bar(df_intros_nat.groupby(nationality).count().sort_values(\"philosopher\", ascending = False).index, df_intros_nat.groupby(nationality).count().sort_values(\"philosopher\", ascending = False)[\"philosopher\"])\n",
    "plt.suptitle(\"distribution of the nationalities based on the frequency\", fontdict=font_title)\n",
    "plt.xticks(rotation=\"vertical\")\n",
    "plt.xlabel(\"nationalities\", fontdict=font)\n",
    "plt.ylabel(\"Frequency\", fontdict=font)\n",
    "plt.show()"
   ]
  },
  {
   "cell_type": "markdown",
   "metadata": {},
   "source": [
    "The plot shows how the behavior of the distribution of the nationalities of the philosophers follow somehow the pareto principle. In fact, if we analyze the amount of nationalities and the amount of philosophers we can state that: "
   ]
  },
  {
   "cell_type": "code",
   "execution_count": 89,
   "metadata": {},
   "outputs": [
    {
     "name": "stdout",
     "output_type": "stream",
     "text": [
      "The 20% most *populous* nationalities in the dataset is made of  21  nationalities.\n",
      "\n",
      "The number of philosophers belonging to the 20% most *populous* nationalities in the dataset :  1463\n",
      "The 80% of the total number of the nationalities of the dataset is:  1386\n"
     ]
    }
   ],
   "source": [
    "# number of nationalities considered\n",
    "n_nationalities = len(nationalities)\n",
    "\n",
    "# number of philosophers in the dataset \n",
    "n_philosophers = len(T)\n",
    "\n",
    "print(\"The 20% most *populous* nationalities in the dataset is made of \", round(n_nationalities*0.2), \" nationalities.\")\n",
    "\n",
    "# twentieth percentile of nationalities distribution\n",
    "largest_nat = list(df_intros_nat.groupby(nationality).count().sort_values(\"philosopher\", ascending = False).index[:round(n_nationalities*0.2)])\n",
    "\n",
    "print(\"\")\n",
    "\n",
    "print(\"The number of philosophers belonging to the 20% most *populous* nationalities in the dataset : \", df_intros_nat[df_intros_nat.nationality.isin(largest_nat)].shape[0])\n",
    "\n",
    "print(\"The 80% of the total number of the nationalities of the dataset is: \", round(n_philosophers*0.8))"
   ]
  },
  {
   "cell_type": "markdown",
   "metadata": {},
   "source": [
    "These lines of code show how the principle of pareto is proved in this context: in fact it is verified that:\n",
    "\n",
    "**roughly the 80% of the philosophers belong to the 20% of the nationalities**\n",
    "\n",
    "This principle will be used when building the network that will be used to analyze the distribution of the nationalities of the philosophers, since the network will be restricted to the most significant *nationalities* in order to avoid dispersion of information over an amount too large of categories"
   ]
  },
  {
   "cell_type": "code",
   "execution_count": 94,
   "metadata": {},
   "outputs": [
    {
     "data": {
      "image/png": "[encoded data removed]",
      "text/plain": [
       "<Figure size 1440x504 with 1 Axes>"
      ]
     },
     "metadata": {},
     "output_type": "display_data"
    }
   ],
   "source": [
    "import matplotlib.pyplot as plt\n",
    "import seaborn as sns\n",
    "sns.set_style('darkgrid')\n",
    "\n",
    "font = {'family': 'serif',\n",
    "        'color':  'darkred',\n",
    "        'weight': 'normal',\n",
    "        'size': 14,\n",
    "        }\n",
    "\n",
    "font_title = {'family': 'serif',\n",
    "              'color':  'black',\n",
    "              'weight': 'normal',\n",
    "              'size': 50,\n",
    "            }\n",
    "\n",
    "fig = plt.figure(figsize=(20, 7))\n",
    "plt.bar(df_intros_nat.groupby(nationality).count().sort_values(\"philosopher\", ascending = False).index[:21], df_intros_nat.groupby(nationality).count().sort_values(\"philosopher\", ascending = False)[\"philosopher\"][:21])\n",
    "plt.suptitle(\"distribution of the nationalities based on the frequency (restricted to the 20% most populous groups)\", fontdict=font_title)\n",
    "plt.xticks(rotation=\"vertical\")\n",
    "plt.xlabel(\"nationalities\", fontdict=font)\n",
    "plt.ylabel(\"Number of philosophers\", fontdict=font)\n",
    "plt.show()"
   ]
  },
  {
   "cell_type": "markdown",
   "metadata": {},
   "source": [
    "## 3. Scraping of centuries of philosophers"
   ]
  },
  {
   "cell_type": "code",
   "execution_count": null,
   "metadata": {
    "id": "mKC6I1mcZh_x"
   },
   "outputs": [],
   "source": [
    "# philosophers csv get the century of each philosopher\n",
    "# region of philosopher from the philosopher's pages"
   ]
  },
  {
   "cell_type": "code",
   "execution_count": null,
   "metadata": {
    "id": "rG1iLlRDalc7",
    "outputId": "7d75fc29-a0ba-4336-b551-a218d1609915"
   },
   "outputs": [
    {
     "name": "stdout",
     "output_type": "stream",
     "text": [
      "0       born 1949\n",
      "1       1162-1231\n",
      "2       born 1945\n",
      "3       born 1935\n",
      "4       1907–1996\n",
      "          ...    \n",
      "1727    1904–1977\n",
      "1728    born 1942\n",
      "1729    1715–1780\n",
      "1730    1884–1978\n",
      "1731      725–788\n",
      "Name: Birth/death dates, Length: 1732, dtype: object\n"
     ]
    }
   ],
   "source": [
    "df = pd.read_csv('../philosophers.csv')\n",
    "print(df[\"Birth/death dates\"])"
   ]
  },
  {
   "cell_type": "code",
   "execution_count": null,
   "metadata": {
    "id": "SOyq_zhk0L1j"
   },
   "outputs": [],
   "source": [
    "def transform_date_to_century(year, isBC):\n",
    "    year = int(year)\n",
    "    if year < 1:\n",
    "        return False\n",
    "        # and cut the decimal digits\n",
    "    if isBC:\n",
    "        return -(int(year / 100) + 1)\n",
    "    return int(year / 100) + 1\n",
    "\n",
    "# cases of dates are:\n",
    "# If it has AD in the title I don't care, if it has BC then I care and I can do (-) in front of century\n",
    "# If before Christ \n",
    "# Xth century\n",
    "# born ...\n",
    "# xxx-xxx with other text around maybe\n",
    "# BC and AD\n",
    "pattern1 = '(\\d+)(st|nd|rd|th) century'\n",
    "pattern2 = 'born (\\d+)'\n",
    "# if it doesn't match neither of them, then search if it has a number or two\n",
    "pattern3 = '\\d+'\n",
    "# if one number then that's it transform it to century\n",
    "# if two numbers then average and transform it to century\n",
    "philosophers_centuries = []\n",
    "isBC = False\n",
    "\n",
    "for date in df[\"Birth/death dates\"]:\n",
    "    # check if BC\n",
    "    isBC = False\n",
    "    if 'BC' in date:\n",
    "        isBC = True\n",
    "\n",
    "    century = re.findall(pattern1, date)\n",
    "    if century:\n",
    "        century = century[0][0]\n",
    "        if isBC:\n",
    "            philosophers_centuries.append(-int(century))\n",
    "        else:\n",
    "            philosophers_centuries.append(int(century))\n",
    "    else:\n",
    "        year = re.findall(pattern2, date)\n",
    "        if year:\n",
    "            year = int(year[0])\n",
    "            philosophers_centuries.append(transform_date_to_century(year, isBC))\n",
    "        else:\n",
    "            year = 0\n",
    "            # get numbers from string and if two find average if one just use it\n",
    "            year = re.findall(pattern3, date)\n",
    "            if len(year) >= 2:\n",
    "                # here if I have 2 or more numbers then I get first and last element of the list and find average,\n",
    "                # I could as well just get 0 and 1 elements but there is at least on case where we have 3 numbers in the year list \n",
    "                year = (int(year[0]) + int(year[-1]))/2\n",
    "            elif len(year) == 1:\n",
    "                year = int(year[0])\n",
    "            else:\n",
    "                print(\"WEIRD case\",date)\n",
    "                year = year[0]\n",
    "\n",
    "            if year != 0:\n",
    "                philosophers_centuries.append(transform_date_to_century(year, isBC))\n",
    "\n",
    "df['century'] = philosophers_centuries\n",
    "\n",
    "df.to_csv('../philosophers_with_centuries.csv', index=False)"
   ]
  },
  {
   "cell_type": "markdown",
   "metadata": {},
   "source": [
    "## 4. Scraping of tag words of philosophers"
   ]
  },
  {
   "cell_type": "markdown",
   "metadata": {},
   "source": [
    "### Motivation\n",
    "\n",
    "The idea of the following section is to add to the nodes of the network, that are the philosophers, some tagwords that may define or give some information about the philosopher itself. The tagwords are highlited words having the scope of summarize the most significant information about a philosopher. In other words, these words can help to have an idea about the philosopher thoughts, instructions, fields of interest, epoch, and many other information that may be relevant in order to underastand the philosopher in general and it also may explain why a philosopher is linked to another one.\n",
    "\n",
    "The tagwords for each philosopher are taken from the introduction paragraph of the philosopher. Moreover, the tagwords are taken exploiting the NLP model of TF-IDF (Term frequency - Inverse term frequency), a function that measures the importance of a term in a set of documents. In this case, the set of documents will be the set of the introduction paragraphs of each philosopher.\n",
    "\n",
    "Adding the tagwords as attributes for the network will also be used when applying a Louvain model, in order to understand and classify relevant clusters of philosophers according to the tagwords associated to each philosopher.\n",
    "\n",
    "### Data extraction procedure\n",
    "\n",
    "The following section, therefore will have the aim of building a dataset that assign to each philosopher some tagwords that will eventually used to compute analysis of the graph itself. Note that the amount of tagwords that each philosopher will have depends on the length of the document related to the philosopher, therefore to the importance of the philosopher (usually the more a topic is important, the more its web page will be long).\n",
    "\n",
    "Starting from the pages of the philosophers previously downloaded and saved in `.txt` files, the dataset containing the philosophers and the related tagwords is built following three steps:\n",
    "1. Use regular expressions in order to extract from the wikipedia page the introduction and clean the text from the formatting characters, removing not useful information\n",
    "2. Data cleaning, through text preprocessing (lowercase, lemmatization, stopwords removal, ... )\n",
    "3. Computation of the TF-IDF model based on the documents available. The top-n words with the highest TF-IDF score will be taken to be used as tagwords. \n",
    "4. Assignment of the words to each philosofer in a pandas dataframe\n",
    "\n",
    "The resulting dataset will be eventually used to complete the networks of the philosophers with relevant attributes."
   ]
  },
  {
   "cell_type": "markdown",
   "metadata": {},
   "source": [
    "## Raw text data collection\n",
    "\n",
    "Each Wikipedia page is composed by a title, an infobox and some paragrahs. Each page has an introductive paragraph, containing the main information related to that page. For the dataset object of this course, that paragraph contains some of the information that show up in the infobox and also some other information, such as the philosophical current, some some topics of interest, style and main works.\n",
    "\n",
    "First, a list with the names of all the philosofers scraped from wikipedia is loaded. The length of the list `list_of_all_phil` corresponds to the total number of philosofers, that is the amount of nodes that the resulting network will have."
   ]
  },
  {
   "cell_type": "code",
   "execution_count": 3,
   "metadata": {},
   "outputs": [
    {
     "name": "stdout",
     "output_type": "stream",
     "text": [
      "Total number of philosofers:  1732\n"
     ]
    }
   ],
   "source": [
    "philosophers = pd.read_csv(path+\"philosophers.csv\")\n",
    "\n",
    "list_of_all_phil = list(philosophers[\"File name\"])\n",
    "print(\"Total number of philosofers: \", len(list_of_all_phil))"
   ]
  },
  {
   "cell_type": "markdown",
   "metadata": {},
   "source": [
    "from `.txt` files containing the wikipedia page of the philosofers is taken the introduction thanks to a regular expression, called in the code `pattern_name`. The introduction is saved in a file `name`, and it is add to a list."
   ]
  },
  {
   "cell_type": "code",
   "execution_count": 4,
   "metadata": {},
   "outputs": [],
   "source": [
    "def take_introduction(list_of_all_phil):\n",
    "    \n",
    "    \"\"\"\n",
    "        This function takes a list Wikipedia page titles and it returns\n",
    "        the raw version of the introduction. It basically extract the \n",
    "        introduction of a page, whitouth removing the style and formatting\n",
    "        attribut that will be kept in the text.\n",
    "        \n",
    "        parameters:\n",
    "        \n",
    "        list_of_all_phil -> list of wikipedia page titles (in this case, \n",
    "        names of philosophers)\n",
    "        \n",
    "        returns:\n",
    "         list of strings, with the introduction paragraph of the philosophers\n",
    "    \n",
    "    \"\"\"\n",
    "    text = []\n",
    "    for i in list_of_all_phil:\n",
    "\n",
    "        file = open(path+i, \"r\", encoding=\"utf-8\")\n",
    "        phil_description = file.read()\n",
    "        pattern_name = \"\\'\\'\\'(.*?)\\'\\'\\'(.*?)\\n\"\n",
    "        name = re.findall(pattern_name, phil_description)\n",
    "        text.append(name)\n",
    "    return text\n",
    "\n",
    "\n",
    "text = take_introduction(list_of_all_phil)"
   ]
  },
  {
   "cell_type": "markdown",
   "metadata": {},
   "source": [
    "Hence, the list `text`, contains the introductive paragraph of all the philosophers.\n",
    "\n",
    "The introduction paragraph is taken exploiting the **regular expressions** (*REGEX*), sequences of symbols that identify a set of strings (src: <Wikipedia.com>). In particular, the regular expression used in this occasion uses the pattern called `pattern_name` to identify the structure of the wikipedia web page in order to take the section of the text belonging to the introduction. In fact, analyzing the web pages downloaded from wikipedia in the `html` format it can be noticed that all of them follow, in general - but with some small differences - the same structure.\n",
    "\n",
    "The pattern defined in the function:\n",
    "\n",
    "        pattern_name = \"\\'\\'\\'(.*?)\\'\\'\\'(.*?)\\n\"\n",
    "\n",
    "takes all the text contained between the three symbols `'`, which in the the philosophers pages consists of the name of the philosopher, and all the information that follow the philosopher name, until the first empty line.\n",
    "\n",
    "Usually these firsts lines give the most important information about the philosopher, such as the age he/she lived, accademic interest topics, profession and/or the reason why he became famous (e.g. winner of Nobel's Prize). \n",
    "\n",
    "It's interesting to notice that this first paragraph contain the information that are needed in order to find the most relevant keywords for the philosopher.\n",
    " \n",
    "The strings of text extracted so far are saved in an object `pd.DataFrame`. \n",
    "\n",
    "The dataframe has two columns:\n",
    "* philosophers\n",
    "* intro pages"
   ]
  },
  {
   "cell_type": "code",
   "execution_count": 5,
   "metadata": {},
   "outputs": [
    {
     "data": {
      "text/html": [
       "<div>\n",
       "<style scoped>\n",
       "    .dataframe tbody tr th:only-of-type {\n",
       "        vertical-align: middle;\n",
       "    }\n",
       "\n",
       "    .dataframe tbody tr th {\n",
       "        vertical-align: top;\n",
       "    }\n",
       "\n",
       "    .dataframe thead th {\n",
       "        text-align: right;\n",
       "    }\n",
       "</style>\n",
       "<table border=\"1\" class=\"dataframe\">\n",
       "  <thead>\n",
       "    <tr style=\"text-align: right;\">\n",
       "      <th></th>\n",
       "      <th>philosopher</th>\n",
       "      <th>text</th>\n",
       "    </tr>\n",
       "  </thead>\n",
       "  <tbody>\n",
       "    <tr>\n",
       "      <th>0</th>\n",
       "      <td>Aaron_Ben-Ze'ev.txt</td>\n",
       "      <td>[(Aaron Ben-Ze'ev,  ('''אהרון בן-זאב'''; born 30 July 1949) is an Israeli philosopher. He was President of the [[University of Haifa]] from 2004 to 2012.)]</td>\n",
       "    </tr>\n",
       "    <tr>\n",
       "      <th>1</th>\n",
       "      <td>Abd_al-Latif_al-Baghdadi.txt</td>\n",
       "      <td>[(ʿAbd al-Laṭīf al-Baghdādī,  ({{lang-ar|عبداللطيف البغدادي}}, 1162 [[Baghdad]]–1231 Baghdad), short for '''Muwaffaq al-Dīn Muḥammad ʿAbd al-Laṭīf ibn Yūsuf al-Baghdādī''' ({{lang-ar|موفق الدين محمد عبد اللطيف بن يوسف البغدادي}}), was a [[Islamic medicine|physician]], philosopher, [[Historiography of early Islam|historian]], [[Arabic grammar]]ian and traveler, and one of the most voluminous writers in the [[Near East]] of his time.&lt;ref&gt;[[Chambers Biographical Dictionary]], {{ISBN|0-550-18022-2}}, page 3&lt;/ref&gt;)]</td>\n",
       "    </tr>\n",
       "    <tr>\n",
       "      <th>2</th>\n",
       "      <td>Abdolkarim_Soroush.txt</td>\n",
       "      <td>[(Abdolkarim Soroush,  ({{lang|fa|عبدالكريم سروش}} {{pronunciation|Abdolkarim Soroush from Iran pronunciation.ogg|listen|(}} {{IPA-fa|æbdolkæriːm soruːʃ}}; born '''Hossein Haj Faraj Dabbagh''' (born 1945; {{lang-fa|حسين حاج فرج دباغ}}), is an [[Iran]]ian Islamic thinker, reformer, [[Rumi]] scholar, public intellectual, and a former professor of philosophy at the [[University of Tehran]] and [[Imam Khomeini International University]].&lt;ref&gt;[http://www.iran-newspaper.com/1383/831117/html/horizon.htm Iran Newspaper&lt;!-- Bot generated title --&gt;] {{webarchive |url=https://web.archive.org/web/20090622101917/http://www.iran-newspaper.com/1383/831117/html/horizon.htm |date=June 22, 2009 }}&lt;/ref&gt; He is arguably the most influential figure in the [[Religious intellectualism in Iran|religious intellectual movement]] of Iran. Soroush is currently a visiting scholar at the [[University of Maryland]] in College Park, Maryland. He was also affiliated with other institutions, including Harvard, Princeton, Yale, Columbia, the Leiden-based International Institute as a visiting professor&lt;ref&gt;{{Cite web|url=https://www.loc.gov/today/pr/2009/09-184.html|title=Iranian Philosopher Abdolkarim Soroush Named Distinguished Visiting Scholar at John W. Kluge Center}}&lt;/ref&gt; for the Study of Islam in the Modern World (ISIM) and the Wissenschaftskolleg in Berlin. He was named by ''[[Time (magazine)|Time]]'' magazine as one of the world's 100 most influential people in 2005, and by ''[[Prospect (magazine)|Prospect]]'' magazine as one of the most influential intellectuals in the world in 2008.&lt;ref&gt;[https://www.loc.gov/today/pr/2009/09-184.html Library of Congress]&lt;/ref&gt; Soroush's ideas, founded on [[relativism]], prompted both supporters and critics to compare his role in reforming Islam to that of [[Martin Luther]] in reforming Christianity.&lt;ref&gt;[https://books.google.com/books?id=E6H6GAzdrXcC&amp;pg=PA297&amp;dq=Soroush+Luther&amp;hl=en&amp;ei=3pwYTaLkGYTwsgaI2OSFDQ&amp;sa=X&amp;oi=book_result&amp;ct=result&amp;resnum=4&amp;ved=0CDEQ6AEwAw#v=onepage&amp;q=Soroush%20Luther&amp;f=false Middle East Contemporary Survey&amp;nbsp;... - Google Books&lt;!-- Bot generated title --&gt;]&lt;/ref&gt;&lt;ref&gt;[https://books.google.com/books?id=yU3uAAAAMAAJ&amp;q=Soroush+Luther&amp;dq=Soroush+Luther&amp;hl=en&amp;ei=3pwYTaLkGYTwsgaI2OSFDQ&amp;sa=X&amp;oi=book_result&amp;ct=result&amp;resnum=1&amp;ved=0CCMQ6AEwAA An introduction to Islam - Google Books&lt;!-- Bot generated title --&gt;]&lt;/ref&gt;)]</td>\n",
       "    </tr>\n",
       "  </tbody>\n",
       "</table>\n",
       "</div>"
      ],
      "text/plain": [
       "                    philosopher  \\\n",
       "0           Aaron_Ben-Ze'ev.txt   \n",
       "1  Abd_al-Latif_al-Baghdadi.txt   \n",
       "2        Abdolkarim_Soroush.txt   \n",
       "\n",
       "                                                                                                                                                                                                                                                                                                                                                                                                                                                                                                                                                                                                                                                                                                                                                                                                                                                                                                                                                                                                                                                                                                                                                                                                                                                                                                                                                                                                                                                                                                                                                                                                                                                                                                                                                                                                                                                                                                                                                                                                                                                                                                                                                                                                                                                                                                                                                                                                                                                                              text  \n",
       "0                                                                                                                                                                                                                                                                                                                                                                                                                                                                                                                                                                                                                                                                                                                                                                                                                                                                                                                                                                                                                                                                                                                                                                                                                                                                                                                                                                                                                                                                                                                                                                                                                                                                                                                                                                                                                                                                                                                                                                                                                                                                                                                                                                                                                                                                                                                      [(Aaron Ben-Ze'ev,  ('''אהרון בן-זאב'''; born 30 July 1949) is an Israeli philosopher. He was President of the [[University of Haifa]] from 2004 to 2012.)]  \n",
       "1                                                                                                                                                                                                                                                                                                                                                                                                                                                                                                                                                                                                                                                                                                                                                                                                                                                                                                                                                                                                                                                                                                                                                                                                                                                                                                                                                                                                                                                                                                                                                                                                                                                                                                                                                                                                                                                                                                                                             [(ʿAbd al-Laṭīf al-Baghdādī,  ({{lang-ar|عبداللطيف البغدادي}}, 1162 [[Baghdad]]–1231 Baghdad), short for '''Muwaffaq al-Dīn Muḥammad ʿAbd al-Laṭīf ibn Yūsuf al-Baghdādī''' ({{lang-ar|موفق الدين محمد عبد اللطيف بن يوسف البغدادي}}), was a [[Islamic medicine|physician]], philosopher, [[Historiography of early Islam|historian]], [[Arabic grammar]]ian and traveler, and one of the most voluminous writers in the [[Near East]] of his time.<ref>[[Chambers Biographical Dictionary]], {{ISBN|0-550-18022-2}}, page 3</ref>)]  \n",
       "2  [(Abdolkarim Soroush,  ({{lang|fa|عبدالكريم سروش}} {{pronunciation|Abdolkarim Soroush from Iran pronunciation.ogg|listen|(}} {{IPA-fa|æbdolkæriːm soruːʃ}}; born '''Hossein Haj Faraj Dabbagh''' (born 1945; {{lang-fa|حسين حاج فرج دباغ}}), is an [[Iran]]ian Islamic thinker, reformer, [[Rumi]] scholar, public intellectual, and a former professor of philosophy at the [[University of Tehran]] and [[Imam Khomeini International University]].<ref>[http://www.iran-newspaper.com/1383/831117/html/horizon.htm Iran Newspaper<!-- Bot generated title -->] {{webarchive |url=https://web.archive.org/web/20090622101917/http://www.iran-newspaper.com/1383/831117/html/horizon.htm |date=June 22, 2009 }}</ref> He is arguably the most influential figure in the [[Religious intellectualism in Iran|religious intellectual movement]] of Iran. Soroush is currently a visiting scholar at the [[University of Maryland]] in College Park, Maryland. He was also affiliated with other institutions, including Harvard, Princeton, Yale, Columbia, the Leiden-based International Institute as a visiting professor<ref>{{Cite web|url=https://www.loc.gov/today/pr/2009/09-184.html|title=Iranian Philosopher Abdolkarim Soroush Named Distinguished Visiting Scholar at John W. Kluge Center}}</ref> for the Study of Islam in the Modern World (ISIM) and the Wissenschaftskolleg in Berlin. He was named by ''[[Time (magazine)|Time]]'' magazine as one of the world's 100 most influential people in 2005, and by ''[[Prospect (magazine)|Prospect]]'' magazine as one of the most influential intellectuals in the world in 2008.<ref>[https://www.loc.gov/today/pr/2009/09-184.html Library of Congress]</ref> Soroush's ideas, founded on [[relativism]], prompted both supporters and critics to compare his role in reforming Islam to that of [[Martin Luther]] in reforming Christianity.<ref>[https://books.google.com/books?id=E6H6GAzdrXcC&pg=PA297&dq=Soroush+Luther&hl=en&ei=3pwYTaLkGYTwsgaI2OSFDQ&sa=X&oi=book_result&ct=result&resnum=4&ved=0CDEQ6AEwAw#v=onepage&q=Soroush%20Luther&f=false Middle East Contemporary Survey&nbsp;... - Google Books<!-- Bot generated title -->]</ref><ref>[https://books.google.com/books?id=yU3uAAAAMAAJ&q=Soroush+Luther&dq=Soroush+Luther&hl=en&ei=3pwYTaLkGYTwsgaI2OSFDQ&sa=X&oi=book_result&ct=result&resnum=1&ved=0CCMQ6AEwAA An introduction to Islam - Google Books<!-- Bot generated title -->]</ref>)]  "
      ]
     },
     "execution_count": 5,
     "metadata": {},
     "output_type": "execute_result"
    }
   ],
   "source": [
    "df_intros = pd.DataFrame()\n",
    "df_intros[\"philosopher\"] = list_of_all_phil\n",
    "df_intros[\"text\"] = text\n",
    "\n",
    "df_intros.head(3)"
   ]
  },
  {
   "cell_type": "markdown",
   "metadata": {},
   "source": [
    "As it can be seen, the data extracted still need some data cleaning before applying the models to extract the most relevant keywords.\n",
    "\n",
    "\n",
    "\n",
    "The datacleaning will be done in two different steps:\n",
    "\n",
    "1. The first step consists of finding regular expressions in order to clean the html code. This means removing the html **tags** and other hypertextual information from the text.\n",
    "2. The second part consist of classic text preprocessing (i.e. remove punctuation, lowercase, remove stopwords, lemmatizing, etc...)\n",
    "\n",
    "\n",
    "In this first phase, all the hypertextual `html` are substituted with an empty string. This is done since all the information contained in the tags are not useful for the porpouse of finfing the most relevant words in the text. In other words, all these information are not useful for the scope.\n",
    "\n",
    "Scrolling the `.txt` files of some of the philosophers, it can be seen that the tags inside the pages are pretty much the same for all the philosophers. This means that each page has the same expressions and the same patterns:\n",
    "\n",
    "* The dates (birth/death dates) are contained in parenthesys. In this section of the work, the date will not be considered. The ages and the historical component of the data will be taken into account in another section of the project.\n",
    "* As already mentione, the name is contained inside three characters `'`. From now on, the name will be removed from the text, since it is already included in another column of the dataset. Keeping the name of the philosopher inside the text would be redoundant, sn it may affect the developement of the TFIDF. \n",
    "* All the hypertextual links are contained in the html tags <ref \\*some_text><\\ref>. All the hypertextual links are not relevant, and they can be removed from the text.\n",
    "* Slashes are removed from the text.\n",
    "\n",
    "Eventually, in order to semplify the process of data mining, all the information contained in parenthesis and quotes are removed. It is assumed that these information are not relevant in the process of finding the most relevant words for each philosopher."
   ]
  },
  {
   "cell_type": "code",
   "execution_count": 6,
   "metadata": {},
   "outputs": [],
   "source": [
    "Text = []\n",
    "for i in text:\n",
    "    if i != []:\n",
    "        Text.append(str(i[0]))\n",
    "    else:\n",
    "        Text.append(\"\")\n",
    "\n",
    "pattern_date = \"\\((.*?)\\)\"              # pattern birth date \n",
    "pattern_name = \"\\'\\'\\'(.*?)\\'\\'\\'\"      # pattern name of the philosopher\n",
    "pattern_ref = \"<ref ?(.*?)>(.*?)</ref>\" # pattern links\n",
    "pattern_slash = \"\\\\\\'\"                  # pattern slashes\n",
    "\n",
    "pattern_par = \"\\(|\\)\"                   # Pattern parenthesis\n",
    "pattern_virg = \"<(.*?)>\"                # Pattern quotes\n",
    "\n",
    "text = []\n",
    "for i in Text:\n",
    "    mod = re.sub(pattern_date, \"\", i)\n",
    "    mod = re.sub(pattern_name, \"\", mod)\n",
    "    mod = re.sub(pattern_ref, \"\", mod)\n",
    "    mod = re.sub(pattern_slash, \"\", mod)\n",
    "    mod = re.sub(pattern_par, \"\", mod)\n",
    "    mod = re.sub(pattern_virg, \"\", mod)\n",
    "    text.append(mod)\n",
    "    \n",
    "    \n",
    "pattern_brackets = \"\\[\\[(.*?)\\]\\]\"\n",
    "\n",
    "Text = []\n",
    "for i in text:\n",
    "    mod = re.findall(pattern_brackets, i.lower())\n",
    "\n",
    "    s = i.lower()\n",
    "    for j in mod:\n",
    "        if \"|\" in j:\n",
    "            y = j.rpartition('|')[2]\n",
    "            k = \"[[\"+j+\"]]\"\n",
    "            s = s.replace(k, y)\n",
    "    Text.append(s)\n",
    "    \n",
    "    \n",
    "text = []\n",
    "for i in Text:\n",
    "    mod = re.sub(\"\\[|\\]\", \"\", i)\n",
    "    text.append(mod)"
   ]
  },
  {
   "cell_type": "code",
   "execution_count": 7,
   "metadata": {},
   "outputs": [
    {
     "data": {
      "text/html": [
       "<div>\n",
       "<style scoped>\n",
       "    .dataframe tbody tr th:only-of-type {\n",
       "        vertical-align: middle;\n",
       "    }\n",
       "\n",
       "    .dataframe tbody tr th {\n",
       "        vertical-align: top;\n",
       "    }\n",
       "\n",
       "    .dataframe thead th {\n",
       "        text-align: right;\n",
       "    }\n",
       "</style>\n",
       "<table border=\"1\" class=\"dataframe\">\n",
       "  <thead>\n",
       "    <tr style=\"text-align: right;\">\n",
       "      <th></th>\n",
       "      <th>philosopher</th>\n",
       "      <th>text</th>\n",
       "      <th>preprocess_text</th>\n",
       "    </tr>\n",
       "  </thead>\n",
       "  <tbody>\n",
       "    <tr>\n",
       "      <th>0</th>\n",
       "      <td>Aaron_Ben-Ze'ev.txt</td>\n",
       "      <td>[(Aaron Ben-Ze'ev,  ('''אהרון בן-זאב'''; born 30 July 1949) is an Israeli philosopher. He was President of the [[University of Haifa]] from 2004 to 2012.)]</td>\n",
       "      <td>is an israeli philosopher. he was president of the university of haifa from 2004 to 2012.\"</td>\n",
       "    </tr>\n",
       "    <tr>\n",
       "      <th>1</th>\n",
       "      <td>Abd_al-Latif_al-Baghdadi.txt</td>\n",
       "      <td>[(ʿAbd al-Laṭīf al-Baghdādī,  ({{lang-ar|عبداللطيف البغدادي}}, 1162 [[Baghdad]]–1231 Baghdad), short for '''Muwaffaq al-Dīn Muḥammad ʿAbd al-Laṭīf ibn Yūsuf al-Baghdādī''' ({{lang-ar|موفق الدين محمد عبد اللطيف بن يوسف البغدادي}}), was a [[Islamic medicine|physician]], philosopher, [[Historiography of early Islam|historian]], [[Arabic grammar]]ian and traveler, and one of the most voluminous writers in the [[Near East]] of his time.&lt;ref&gt;[[Chambers Biographical Dictionary]], {{ISBN|0-550-18022-2}}, page 3&lt;/ref&gt;)]</td>\n",
       "      <td>, short for  , was a physician, philosopher, historian, arabic grammarian and traveler, and one of the most voluminous writers in the near east of his time.\"</td>\n",
       "    </tr>\n",
       "    <tr>\n",
       "      <th>2</th>\n",
       "      <td>Abdolkarim_Soroush.txt</td>\n",
       "      <td>[(Abdolkarim Soroush,  ({{lang|fa|عبدالكريم سروش}} {{pronunciation|Abdolkarim Soroush from Iran pronunciation.ogg|listen|(}} {{IPA-fa|æbdolkæriːm soruːʃ}}; born '''Hossein Haj Faraj Dabbagh''' (born 1945; {{lang-fa|حسين حاج فرج دباغ}}), is an [[Iran]]ian Islamic thinker, reformer, [[Rumi]] scholar, public intellectual, and a former professor of philosophy at the [[University of Tehran]] and [[Imam Khomeini International University]].&lt;ref&gt;[http://www.iran-newspaper.com/1383/831117/html/horizon.htm Iran Newspaper&lt;!-- Bot generated title --&gt;] {{webarchive |url=https://web.archive.org/web/20090622101917/http://www.iran-newspaper.com/1383/831117/html/horizon.htm |date=June 22, 2009 }}&lt;/ref&gt; He is arguably the most influential figure in the [[Religious intellectualism in Iran|religious intellectual movement]] of Iran. Soroush is currently a visiting scholar at the [[University of Maryland]] in College Park, Maryland. He was also affiliated with other institutions, including Harvard, Princeton, Yale, Columbia, the Leiden-based International Institute as a visiting professor&lt;ref&gt;{{Cite web|url=https://www.loc.gov/today/pr/2009/09-184.html|title=Iranian Philosopher Abdolkarim Soroush Named Distinguished Visiting Scholar at John W. Kluge Center}}&lt;/ref&gt; for the Study of Islam in the Modern World (ISIM) and the Wissenschaftskolleg in Berlin. He was named by ''[[Time (magazine)|Time]]'' magazine as one of the world's 100 most influential people in 2005, and by ''[[Prospect (magazine)|Prospect]]'' magazine as one of the most influential intellectuals in the world in 2008.&lt;ref&gt;[https://www.loc.gov/today/pr/2009/09-184.html Library of Congress]&lt;/ref&gt; Soroush's ideas, founded on [[relativism]], prompted both supporters and critics to compare his role in reforming Islam to that of [[Martin Luther]] in reforming Christianity.&lt;ref&gt;[https://books.google.com/books?id=E6H6GAzdrXcC&amp;pg=PA297&amp;dq=Soroush+Luther&amp;hl=en&amp;ei=3pwYTaLkGYTwsgaI2OSFDQ&amp;sa=X&amp;oi=book_result&amp;ct=result&amp;resnum=4&amp;ved=0CDEQ6AEwAw#v=onepage&amp;q=Soroush%20Luther&amp;f=false Middle East Contemporary Survey&amp;nbsp;... - Google Books&lt;!-- Bot generated title --&gt;]&lt;/ref&gt;&lt;ref&gt;[https://books.google.com/books?id=yU3uAAAAMAAJ&amp;q=Soroush+Luther&amp;dq=Soroush+Luther&amp;hl=en&amp;ei=3pwYTaLkGYTwsgaI2OSFDQ&amp;sa=X&amp;oi=book_result&amp;ct=result&amp;resnum=1&amp;ved=0CCMQ6AEwAA An introduction to Islam - Google Books&lt;!-- Bot generated title --&gt;]&lt;/ref&gt;)]</td>\n",
       "      <td>, is an iranian islamic thinker, reformer, rumi scholar, public intellectual, and a former professor of philosophy at the university of tehran and imam khomeini international university. he is arguably the most influential figure in the religious intellectual movement of iran. soroush is currently a visiting scholar at the university of maryland in college park, maryland. he was also affiliated with other institutions, including harvard, princeton, yale, columbia, the leiden-based international institute as a visiting professor for the study of islam in the modern world  and the wissenschaftskolleg in berlin. he was named by time magazine as one of the worlds 100 most influential people in 2005, and by prospect magazine as one of the most influential intellectuals in the world in 2008. soroushs ideas, founded on relativism, prompted both supporters and critics to compare his role in reforming islam to that of martin luther in reforming christianity.\"</td>\n",
       "    </tr>\n",
       "  </tbody>\n",
       "</table>\n",
       "</div>"
      ],
      "text/plain": [
       "                    philosopher  \\\n",
       "0           Aaron_Ben-Ze'ev.txt   \n",
       "1  Abd_al-Latif_al-Baghdadi.txt   \n",
       "2        Abdolkarim_Soroush.txt   \n",
       "\n",
       "                                                                                                                                                                                                                                                                                                                                                                                                                                                                                                                                                                                                                                                                                                                                                                                                                                                                                                                                                                                                                                                                                                                                                                                                                                                                                                                                                                                                                                                                                                                                                                                                                                                                                                                                                                                                                                                                                                                                                                                                                                                                                                                                                                                                                                                                                                                                                                                                                                                                              text  \\\n",
       "0                                                                                                                                                                                                                                                                                                                                                                                                                                                                                                                                                                                                                                                                                                                                                                                                                                                                                                                                                                                                                                                                                                                                                                                                                                                                                                                                                                                                                                                                                                                                                                                                                                                                                                                                                                                                                                                                                                                                                                                                                                                                                                                                                                                                                                                                                                                      [(Aaron Ben-Ze'ev,  ('''אהרון בן-זאב'''; born 30 July 1949) is an Israeli philosopher. He was President of the [[University of Haifa]] from 2004 to 2012.)]   \n",
       "1                                                                                                                                                                                                                                                                                                                                                                                                                                                                                                                                                                                                                                                                                                                                                                                                                                                                                                                                                                                                                                                                                                                                                                                                                                                                                                                                                                                                                                                                                                                                                                                                                                                                                                                                                                                                                                                                                                                                             [(ʿAbd al-Laṭīf al-Baghdādī,  ({{lang-ar|عبداللطيف البغدادي}}, 1162 [[Baghdad]]–1231 Baghdad), short for '''Muwaffaq al-Dīn Muḥammad ʿAbd al-Laṭīf ibn Yūsuf al-Baghdādī''' ({{lang-ar|موفق الدين محمد عبد اللطيف بن يوسف البغدادي}}), was a [[Islamic medicine|physician]], philosopher, [[Historiography of early Islam|historian]], [[Arabic grammar]]ian and traveler, and one of the most voluminous writers in the [[Near East]] of his time.<ref>[[Chambers Biographical Dictionary]], {{ISBN|0-550-18022-2}}, page 3</ref>)]   \n",
       "2  [(Abdolkarim Soroush,  ({{lang|fa|عبدالكريم سروش}} {{pronunciation|Abdolkarim Soroush from Iran pronunciation.ogg|listen|(}} {{IPA-fa|æbdolkæriːm soruːʃ}}; born '''Hossein Haj Faraj Dabbagh''' (born 1945; {{lang-fa|حسين حاج فرج دباغ}}), is an [[Iran]]ian Islamic thinker, reformer, [[Rumi]] scholar, public intellectual, and a former professor of philosophy at the [[University of Tehran]] and [[Imam Khomeini International University]].<ref>[http://www.iran-newspaper.com/1383/831117/html/horizon.htm Iran Newspaper<!-- Bot generated title -->] {{webarchive |url=https://web.archive.org/web/20090622101917/http://www.iran-newspaper.com/1383/831117/html/horizon.htm |date=June 22, 2009 }}</ref> He is arguably the most influential figure in the [[Religious intellectualism in Iran|religious intellectual movement]] of Iran. Soroush is currently a visiting scholar at the [[University of Maryland]] in College Park, Maryland. He was also affiliated with other institutions, including Harvard, Princeton, Yale, Columbia, the Leiden-based International Institute as a visiting professor<ref>{{Cite web|url=https://www.loc.gov/today/pr/2009/09-184.html|title=Iranian Philosopher Abdolkarim Soroush Named Distinguished Visiting Scholar at John W. Kluge Center}}</ref> for the Study of Islam in the Modern World (ISIM) and the Wissenschaftskolleg in Berlin. He was named by ''[[Time (magazine)|Time]]'' magazine as one of the world's 100 most influential people in 2005, and by ''[[Prospect (magazine)|Prospect]]'' magazine as one of the most influential intellectuals in the world in 2008.<ref>[https://www.loc.gov/today/pr/2009/09-184.html Library of Congress]</ref> Soroush's ideas, founded on [[relativism]], prompted both supporters and critics to compare his role in reforming Islam to that of [[Martin Luther]] in reforming Christianity.<ref>[https://books.google.com/books?id=E6H6GAzdrXcC&pg=PA297&dq=Soroush+Luther&hl=en&ei=3pwYTaLkGYTwsgaI2OSFDQ&sa=X&oi=book_result&ct=result&resnum=4&ved=0CDEQ6AEwAw#v=onepage&q=Soroush%20Luther&f=false Middle East Contemporary Survey&nbsp;... - Google Books<!-- Bot generated title -->]</ref><ref>[https://books.google.com/books?id=yU3uAAAAMAAJ&q=Soroush+Luther&dq=Soroush+Luther&hl=en&ei=3pwYTaLkGYTwsgaI2OSFDQ&sa=X&oi=book_result&ct=result&resnum=1&ved=0CCMQ6AEwAA An introduction to Islam - Google Books<!-- Bot generated title -->]</ref>)]   \n",
       "\n",
       "                                                                                                                                                                                                                                                                                                                                                                                                                                                                                                                                                                                                                                                                                                                                                                                                                                                                                                                                                                                        preprocess_text  \n",
       "0                                                                                                                                                                                                                                                                                                                                                                                                                                                                                                                                                                                                                                                                                                                                                                                                                                                                                                            is an israeli philosopher. he was president of the university of haifa from 2004 to 2012.\"  \n",
       "1                                                                                                                                                                                                                                                                                                                                                                                                                                                                                                                                                                                                                                                                                                                                                                                                                                         , short for  , was a physician, philosopher, historian, arabic grammarian and traveler, and one of the most voluminous writers in the near east of his time.\"  \n",
       "2  , is an iranian islamic thinker, reformer, rumi scholar, public intellectual, and a former professor of philosophy at the university of tehran and imam khomeini international university. he is arguably the most influential figure in the religious intellectual movement of iran. soroush is currently a visiting scholar at the university of maryland in college park, maryland. he was also affiliated with other institutions, including harvard, princeton, yale, columbia, the leiden-based international institute as a visiting professor for the study of islam in the modern world  and the wissenschaftskolleg in berlin. he was named by time magazine as one of the worlds 100 most influential people in 2005, and by prospect magazine as one of the most influential intellectuals in the world in 2008. soroushs ideas, founded on relativism, prompted both supporters and critics to compare his role in reforming islam to that of martin luther in reforming christianity.\"  "
      ]
     },
     "execution_count": 7,
     "metadata": {},
     "output_type": "execute_result"
    }
   ],
   "source": [
    "df_intros[\"preprocess_text\"] = text\n",
    "df_intros.head(3)"
   ]
  },
  {
   "cell_type": "markdown",
   "metadata": {},
   "source": [
    "The dataset `df_intros` contains now a new column with the text clean from all the special charachters, tags, html formatting. Most of the information have been therefore cleaned, in terms of contents.\n",
    "\n",
    "The next step is to clean the text from a grammatical point of view.\n",
    "\n",
    "### Text preprocessing\n",
    "\n",
    "The text preprocessing is a phase that consists of cleaning the text, by transforming, standardizing and removing irrelevant terms in order to apply the NLP models in the best possible way. In the following section, the text preprocessing will be computed through the following steps:\n",
    "\n",
    "1. **Puntuaction removal.** The punctuation removal is used to guarantee that the words are not affected by signs in the text. For instance, the word \"*philosopher*\" would be considered from the models a different word than \"*philosopher.*\" and \"*philosopher,*\". Removing the punctuation, the words would be considered in the same way.\n",
    "\n",
    "2. **lowercase.** For the same reason as 1., all the letters of the text have to be lowercase.\n",
    "\n",
    "3. **Lemmatizing**. The process of lemmatizing is quite helpful, since it allows to transform the words of a text in their suffix. This would make the text less clear for humans, however on the other hand it will help the machine handling the data.\n",
    "\n",
    "4. **Stopwords removal**. This last phase consists of removing all those words that are considered not useful for the text (conjunctions, some adverbs, ...). These words are contained in modules belonging to data cleaning libraries, such as `sklearn` and `nlkt`. \n",
    "\n",
    "Some other specific words are added to the set of the built-in stopwords. In particular, the words related to the term root *philosoph-* are not relevant since they are shared by all the philosophers. \n",
    "\n",
    "Moreover, after running a couple of times the algorithm of TF-IDF, it came out that some of the top-scored words are nationalities, which are mentioned in almost all the pages. Considered the importance of this attribute in the context, it has been decided to not consider the nationality when findin the tagwords, and analyze the nationality of a philosopher separately. Therefore, a list with the most common nationalities is added to the stopwords list.\n",
    "\n",
    "\n",
    "All this phase of text processing is implemented with Machine Learning python libraries that allow to easily clean the textual data. In particular, the two libraries used in this section to clean the data are `sklearn` and `nlkt`."
   ]
  },
  {
   "cell_type": "code",
   "execution_count": 8,
   "metadata": {},
   "outputs": [
    {
     "name": "stderr",
     "output_type": "stream",
     "text": [
      "C:\\Users\\ALESSANDRO\\anaconda3\\lib\\site-packages\\sklearn\\utils\\deprecation.py:143: FutureWarning: The sklearn.feature_extraction.stop_words module is  deprecated in version 0.22 and will be removed in version 0.24. The corresponding classes / functions should instead be imported from sklearn.feature_extraction.text. Anything that cannot be imported from sklearn.feature_extraction.text is now part of the private API.\n",
      "  warnings.warn(message, FutureWarning)\n"
     ]
    }
   ],
   "source": [
    "from sklearn.feature_extraction import stop_words\n",
    "\n",
    "stopwords = set(stop_words.ENGLISH_STOP_WORDS)\n",
    "stopwords.add(\"philosophy\")\n",
    "stopwords.add(\"philosopher\")\n",
    "stopwords.add(\"philosophers\")\n",
    "\n",
    "# add nationalities\n",
    "countries = set([\"american\", \"greek\", \"arabic\", \"french\", \"italian\", \"german\", \"english\", \"jewish\"])\n",
    "stopwords = stopwords.union(countries)"
   ]
  },
  {
   "cell_type": "markdown",
   "metadata": {},
   "source": [
    "Eventually, to the preprocessed text, the function `text_preprocessing`, as defined below is applied to the column `preprocess_text` in order to get done with the final preprocessing."
   ]
  },
  {
   "cell_type": "code",
   "execution_count": 9,
   "metadata": {},
   "outputs": [
    {
     "name": "stderr",
     "output_type": "stream",
     "text": [
      "[nltk_data] Downloading package wordnet to\n",
      "[nltk_data]     C:\\Users\\ALESSANDRO\\AppData\\Roaming\\nltk_data...\n",
      "[nltk_data]   Package wordnet is already up-to-date!\n"
     ]
    }
   ],
   "source": [
    "import string\n",
    "from nltk.stem import WordNetLemmatizer\n",
    "lemmatizer = WordNetLemmatizer()\n",
    "\n",
    "\n",
    "def text_processing(text):\n",
    "    # remove punctuation \n",
    "    text = \"\".join([c for c in text \n",
    "                    if c not in string.punctuation])\n",
    "    # lowercase\n",
    "    text = \"\".join([c.lower() for c in text])\n",
    "    # remove stopwords\n",
    "    text = \" \".join([w for w in text.split() \n",
    "                     if w not in stopwords])\n",
    "    # stemming / lematizing (optional)\n",
    "    text = \" \".join([lemmatizer.lemmatize(w) for w in text.split()])\n",
    "    return text\n",
    "\n",
    "import nltk\n",
    "nltk.download(\"wordnet\")\n",
    "Text = []\n",
    "for i in text:\n",
    "    Text.append(text_processing(i))\n",
    "    \n",
    "df_intros[\"text_clean\"] = Text"
   ]
  },
  {
   "cell_type": "markdown",
   "metadata": {},
   "source": [
    "In order to be handeled properly, the text is split in lists, in which every word represents an element. This new type is eventually add to the dataset."
   ]
  },
  {
   "cell_type": "code",
   "execution_count": 10,
   "metadata": {},
   "outputs": [],
   "source": [
    "T = []\n",
    "for i in Text:\n",
    "    T.append(i.split())\n",
    "\n",
    "df_intros[\"T\"] = T"
   ]
  },
  {
   "cell_type": "markdown",
   "metadata": {},
   "source": [
    "The final version of the dataset `df_intros` is displayed below. The column `text_clean` contains the text that will be used as an input for the TF-IDF model. "
   ]
  },
  {
   "cell_type": "code",
   "execution_count": 11,
   "metadata": {},
   "outputs": [
    {
     "data": {
      "text/html": [
       "<div>\n",
       "<style scoped>\n",
       "    .dataframe tbody tr th:only-of-type {\n",
       "        vertical-align: middle;\n",
       "    }\n",
       "\n",
       "    .dataframe tbody tr th {\n",
       "        vertical-align: top;\n",
       "    }\n",
       "\n",
       "    .dataframe thead th {\n",
       "        text-align: right;\n",
       "    }\n",
       "</style>\n",
       "<table border=\"1\" class=\"dataframe\">\n",
       "  <thead>\n",
       "    <tr style=\"text-align: right;\">\n",
       "      <th></th>\n",
       "      <th>philosopher</th>\n",
       "      <th>text</th>\n",
       "      <th>preprocess_text</th>\n",
       "      <th>text_clean</th>\n",
       "      <th>T</th>\n",
       "    </tr>\n",
       "  </thead>\n",
       "  <tbody>\n",
       "    <tr>\n",
       "      <th>0</th>\n",
       "      <td>Aaron_Ben-Ze'ev.txt</td>\n",
       "      <td>[(Aaron Ben-Ze'ev,  ('''אהרון בן-זאב'''; born 30 July 1949) is an Israeli philosopher. He was President of the [[University of Haifa]] from 2004 to 2012.)]</td>\n",
       "      <td>is an israeli philosopher. he was president of the university of haifa from 2004 to 2012.\"</td>\n",
       "      <td>israeli president university haifa 2004 2012</td>\n",
       "      <td>[israeli, president, university, haifa, 2004, 2012]</td>\n",
       "    </tr>\n",
       "    <tr>\n",
       "      <th>1</th>\n",
       "      <td>Abd_al-Latif_al-Baghdadi.txt</td>\n",
       "      <td>[(ʿAbd al-Laṭīf al-Baghdādī,  ({{lang-ar|عبداللطيف البغدادي}}, 1162 [[Baghdad]]–1231 Baghdad), short for '''Muwaffaq al-Dīn Muḥammad ʿAbd al-Laṭīf ibn Yūsuf al-Baghdādī''' ({{lang-ar|موفق الدين محمد عبد اللطيف بن يوسف البغدادي}}), was a [[Islamic medicine|physician]], philosopher, [[Historiography of early Islam|historian]], [[Arabic grammar]]ian and traveler, and one of the most voluminous writers in the [[Near East]] of his time.&lt;ref&gt;[[Chambers Biographical Dictionary]], {{ISBN|0-550-18022-2}}, page 3&lt;/ref&gt;)]</td>\n",
       "      <td>, short for  , was a physician, philosopher, historian, arabic grammarian and traveler, and one of the most voluminous writers in the near east of his time.\"</td>\n",
       "      <td>short physician historian grammarian traveler voluminous writer near east time</td>\n",
       "      <td>[short, physician, historian, grammarian, traveler, voluminous, writer, near, east, time]</td>\n",
       "    </tr>\n",
       "  </tbody>\n",
       "</table>\n",
       "</div>"
      ],
      "text/plain": [
       "                    philosopher  \\\n",
       "0           Aaron_Ben-Ze'ev.txt   \n",
       "1  Abd_al-Latif_al-Baghdadi.txt   \n",
       "\n",
       "                                                                                                                                                                                                                                                                                                                                                                                                                                                                                                                                   text  \\\n",
       "0                                                                                                                                                                                                                                                                                                                                                                           [(Aaron Ben-Ze'ev,  ('''אהרון בן-זאב'''; born 30 July 1949) is an Israeli philosopher. He was President of the [[University of Haifa]] from 2004 to 2012.)]   \n",
       "1  [(ʿAbd al-Laṭīf al-Baghdādī,  ({{lang-ar|عبداللطيف البغدادي}}, 1162 [[Baghdad]]–1231 Baghdad), short for '''Muwaffaq al-Dīn Muḥammad ʿAbd al-Laṭīf ibn Yūsuf al-Baghdādī''' ({{lang-ar|موفق الدين محمد عبد اللطيف بن يوسف البغدادي}}), was a [[Islamic medicine|physician]], philosopher, [[Historiography of early Islam|historian]], [[Arabic grammar]]ian and traveler, and one of the most voluminous writers in the [[Near East]] of his time.<ref>[[Chambers Biographical Dictionary]], {{ISBN|0-550-18022-2}}, page 3</ref>)]   \n",
       "\n",
       "                                                                                                                                                 preprocess_text  \\\n",
       "0                                                                     is an israeli philosopher. he was president of the university of haifa from 2004 to 2012.\"   \n",
       "1  , short for  , was a physician, philosopher, historian, arabic grammarian and traveler, and one of the most voluminous writers in the near east of his time.\"   \n",
       "\n",
       "                                                                       text_clean  \\\n",
       "0                                    israeli president university haifa 2004 2012   \n",
       "1  short physician historian grammarian traveler voluminous writer near east time   \n",
       "\n",
       "                                                                                           T  \n",
       "0                                        [israeli, president, university, haifa, 2004, 2012]  \n",
       "1  [short, physician, historian, grammarian, traveler, voluminous, writer, near, east, time]  "
      ]
     },
     "execution_count": 11,
     "metadata": {},
     "output_type": "execute_result"
    }
   ],
   "source": [
    "df_intros.head(2)"
   ]
  },
  {
   "cell_type": "markdown",
   "metadata": {},
   "source": [
    "### Calculate TF-IDF"
   ]
  },
  {
   "cell_type": "markdown",
   "metadata": {},
   "source": [
    "The tf-idf is a technique used to find the most relevant words in a set of documents. To be a relevant word according to TF-IDF is not enough for a word to be used frequently in a document. It should be used frequently in a document, but rarely in other document.\n",
    "\n",
    "Hence, for example, the word *born* is used very often in all the introductions of the philosophers, hence it is not considered an important word for TF-IDF. On the other side, words like *ethics* are used rarely in some pages, so they are considered important words.\n",
    "\n",
    "The TF-IDF is calculated in two steps:\n",
    "* TF calculation\n",
    "* IDF calculation"
   ]
  },
  {
   "cell_type": "markdown",
   "metadata": {},
   "source": [
    "\n"
   ]
  },
  {
   "cell_type": "code",
   "execution_count": 12,
   "metadata": {},
   "outputs": [],
   "source": [
    "# remove words that appear only once\n",
    "frequency = defaultdict(int)\n",
    "for t in T:\n",
    "    for token in t:\n",
    "        frequency[token] += 1\n",
    "\n",
    "texts = [\n",
    "    [token for token in t if frequency[token] > 1]\n",
    "    for t in Text\n",
    "]"
   ]
  },
  {
   "cell_type": "markdown",
   "metadata": {},
   "source": [
    "The words are sorted based on the frequency and the first 100 are displayed."
   ]
  },
  {
   "cell_type": "code",
   "execution_count": 13,
   "metadata": {},
   "outputs": [
    {
     "name": "stdout",
     "output_type": "stream",
     "text": [
      "['known', 'work', 'university', 'political', 'professor', 'theory', 'theologian', 'school', 'science', 'writer', 'century', 'scholar', 'influential', 'book', 'philosophical', 'best', 'author', 'history', 'social', 'considered', 'figure', 'poet', 'born', 'mathematician', 'founder', 'law', 'early', 'time', 'important', 'historian', 'state', 'life', 'later', 'modern', 'british', 'study', 'critic', 'theorist', 'new', 'wrote', 'year', 'religion', 'literary', 'called', 'member', 'language', 'intellectual', 'contribution', 'thought', 'influence', 'chinese', 'world', 'christian', 'ancient', 'major', 'writing', 'catholic', 'logic', 'ethic', 'published', 'movement', 'leading', 'death', 'psychology', 'father', 'age', 'theology', 'thinker', 'idea', 'field', 'russian', 'development', 'church', 'united', 'oxford', 'tradition', 'college', 'prominent', 'literature', 'moral', 'roman', 'art', 'legal', 'marxist', 'religious', 'logician', 'taught', 'contemporary', 'physician', 'human', 'priest', 'widely', 'scientific', 'mind', 'academic', 'society', 'including', 'latin', 'politician', '–']\n"
     ]
    }
   ],
   "source": [
    "most_frequent = sorted(frequency.keys(), key=lambda x: frequency[x], reverse=True)\n",
    "print(most_frequent[:100])"
   ]
  },
  {
   "cell_type": "markdown",
   "metadata": {},
   "source": [
    "Then, a corpus is built with a bag of words. Basically, the idea behind the BoW is to transform text data (words) into categorical data, with the aim of discretize the words and allow the model to handle them in the best way.\n",
    "\n",
    "The `corpus` is a matrix showing the frequency of each word (column) in each document (word). The corpus will be the input of the function `gensim.models.TfidfModel()`, that automatically allow to compute the Tf-idf model.\n",
    "\n",
    "From the `corpus_tfidf` is possible to extract the results and save them in an ordered format in the dictionary `scores`. The dictionary shows the tfidf score for each word in each document.\n",
    "\n",
    "The model has been run with the python library `gensim`."
   ]
  },
  {
   "cell_type": "code",
   "execution_count": 14,
   "metadata": {},
   "outputs": [],
   "source": [
    "dictionary = gensim.corpora.Dictionary(T)\n",
    "corpus = [dictionary.doc2bow(t) for t in T]\n",
    "\n",
    "tfidf = gensim.models.TfidfModel(corpus, id2word=dictionary)\n",
    "corpus_tfidf = tfidf[corpus]\n",
    "\n",
    "scores = {}\n",
    "for doc in corpus_tfidf:\n",
    "    for id, value in doc:\n",
    "        word = dictionary.get(id)\n",
    "        if word not in scores:\n",
    "            scores[word] = []\n",
    "        scores[word].append(value)\n",
    "        \n",
    "import numpy as np\n",
    "most_frequent = sorted(frequency.keys(), key=lambda x: frequency[x], reverse=True)\n",
    "filtered_frequent = [w for w in most_frequent if w in scores and np.max(scores[w]) > 0.15]\n",
    "top_words = [word for word in filtered_frequent[:200]]"
   ]
  },
  {
   "cell_type": "markdown",
   "metadata": {},
   "source": [
    "The list `top_words` contains the *n = 200 * most relevant words of the corpus, according to tf_idf. These words will be composing the *tagwords* to be added to the dataset.\n",
    "\n",
    "The *tagwords* are now going to be added to the dataset in a new column. The column `tag` will contain, for each row, a list of tagwords for each philosopher. It is clear that since the tawords are taken among those with a general score that is high, they will vary: some of the philosophers may have more than one tagword, some other may not have tags.\n",
    "\n",
    "Note that it have been decided to take a fixed amount of tagwords over the whole corpus and not a fixed number of tagwords for each philosopher, in order to being able to cluster the results and avoid a dispersion in the data. In fact, if for each filosopher it would have been decided to take *n* words, the amount of tagwords would have been to large and eventually not relevant for an analysis, such as to cluster philosophers. "
   ]
  },
  {
   "cell_type": "code",
   "execution_count": 15,
   "metadata": {},
   "outputs": [],
   "source": [
    "l_tags = []\n",
    "n_tagwords = []\n",
    "for i in df_intros.index:\n",
    "    tags = []\n",
    "    for word in top_words:\n",
    "        text = df_intros[\"preprocess_text\"][i]\n",
    "        if \" \"+word+\" \" in \" \"+text+\" \":\n",
    "            tags.append(word)\n",
    "    l_tags.append(tags)\n",
    "    n_tagwords.append(len(tags))\n",
    "    \n",
    "df_intros[\"tag\"] = l_tags\n",
    "df_intros[\"n_tag\"] = n_tagwords"
   ]
  },
  {
   "cell_type": "code",
   "execution_count": 16,
   "metadata": {},
   "outputs": [
    {
     "data": {
      "text/html": [
       "<div>\n",
       "<style scoped>\n",
       "    .dataframe tbody tr th:only-of-type {\n",
       "        vertical-align: middle;\n",
       "    }\n",
       "\n",
       "    .dataframe tbody tr th {\n",
       "        vertical-align: top;\n",
       "    }\n",
       "\n",
       "    .dataframe thead th {\n",
       "        text-align: right;\n",
       "    }\n",
       "</style>\n",
       "<table border=\"1\" class=\"dataframe\">\n",
       "  <thead>\n",
       "    <tr style=\"text-align: right;\">\n",
       "      <th></th>\n",
       "      <th>philosopher</th>\n",
       "      <th>text</th>\n",
       "      <th>preprocess_text</th>\n",
       "      <th>text_clean</th>\n",
       "      <th>T</th>\n",
       "      <th>tag</th>\n",
       "      <th>n_tag</th>\n",
       "    </tr>\n",
       "  </thead>\n",
       "  <tbody>\n",
       "    <tr>\n",
       "      <th>0</th>\n",
       "      <td>Aaron_Ben-Ze'ev.txt</td>\n",
       "      <td>[(Aaron Ben-Ze'ev,  ('''אהרון בן-זאב'''; born 30 July 1949) is an Israeli philosopher. He was President of the [[University of Haifa]] from 2004 to 2012.)]</td>\n",
       "      <td>is an israeli philosopher. he was president of the university of haifa from 2004 to 2012.\"</td>\n",
       "      <td>israeli president university haifa 2004 2012</td>\n",
       "      <td>[israeli, president, university, haifa, 2004, 2012]</td>\n",
       "      <td>[university, president]</td>\n",
       "      <td>2</td>\n",
       "    </tr>\n",
       "    <tr>\n",
       "      <th>1</th>\n",
       "      <td>Abd_al-Latif_al-Baghdadi.txt</td>\n",
       "      <td>[(ʿAbd al-Laṭīf al-Baghdādī,  ({{lang-ar|عبداللطيف البغدادي}}, 1162 [[Baghdad]]–1231 Baghdad), short for '''Muwaffaq al-Dīn Muḥammad ʿAbd al-Laṭīf ibn Yūsuf al-Baghdādī''' ({{lang-ar|موفق الدين محمد عبد اللطيف بن يوسف البغدادي}}), was a [[Islamic medicine|physician]], philosopher, [[Historiography of early Islam|historian]], [[Arabic grammar]]ian and traveler, and one of the most voluminous writers in the [[Near East]] of his time.&lt;ref&gt;[[Chambers Biographical Dictionary]], {{ISBN|0-550-18022-2}}, page 3&lt;/ref&gt;)]</td>\n",
       "      <td>, short for  , was a physician, philosopher, historian, arabic grammarian and traveler, and one of the most voluminous writers in the near east of his time.\"</td>\n",
       "      <td>short physician historian grammarian traveler voluminous writer near east time</td>\n",
       "      <td>[short, physician, historian, grammarian, traveler, voluminous, writer, near, east, time]</td>\n",
       "      <td>[]</td>\n",
       "      <td>0</td>\n",
       "    </tr>\n",
       "  </tbody>\n",
       "</table>\n",
       "</div>"
      ],
      "text/plain": [
       "                    philosopher  \\\n",
       "0           Aaron_Ben-Ze'ev.txt   \n",
       "1  Abd_al-Latif_al-Baghdadi.txt   \n",
       "\n",
       "                                                                                                                                                                                                                                                                                                                                                                                                                                                                                                                                   text  \\\n",
       "0                                                                                                                                                                                                                                                                                                                                                                           [(Aaron Ben-Ze'ev,  ('''אהרון בן-זאב'''; born 30 July 1949) is an Israeli philosopher. He was President of the [[University of Haifa]] from 2004 to 2012.)]   \n",
       "1  [(ʿAbd al-Laṭīf al-Baghdādī,  ({{lang-ar|عبداللطيف البغدادي}}, 1162 [[Baghdad]]–1231 Baghdad), short for '''Muwaffaq al-Dīn Muḥammad ʿAbd al-Laṭīf ibn Yūsuf al-Baghdādī''' ({{lang-ar|موفق الدين محمد عبد اللطيف بن يوسف البغدادي}}), was a [[Islamic medicine|physician]], philosopher, [[Historiography of early Islam|historian]], [[Arabic grammar]]ian and traveler, and one of the most voluminous writers in the [[Near East]] of his time.<ref>[[Chambers Biographical Dictionary]], {{ISBN|0-550-18022-2}}, page 3</ref>)]   \n",
       "\n",
       "                                                                                                                                                 preprocess_text  \\\n",
       "0                                                                     is an israeli philosopher. he was president of the university of haifa from 2004 to 2012.\"   \n",
       "1  , short for  , was a physician, philosopher, historian, arabic grammarian and traveler, and one of the most voluminous writers in the near east of his time.\"   \n",
       "\n",
       "                                                                       text_clean  \\\n",
       "0                                    israeli president university haifa 2004 2012   \n",
       "1  short physician historian grammarian traveler voluminous writer near east time   \n",
       "\n",
       "                                                                                           T  \\\n",
       "0                                        [israeli, president, university, haifa, 2004, 2012]   \n",
       "1  [short, physician, historian, grammarian, traveler, voluminous, writer, near, east, time]   \n",
       "\n",
       "                       tag  n_tag  \n",
       "0  [university, president]      2  \n",
       "1                       []      0  "
      ]
     },
     "execution_count": 16,
     "metadata": {},
     "output_type": "execute_result"
    }
   ],
   "source": [
    "df_intros.head(2)"
   ]
  },
  {
   "cell_type": "markdown",
   "metadata": {},
   "source": [
    "The final dataset is eventually esported and it will be merged to other dataset, to be included in the networks object of analysis"
   ]
  },
  {
   "cell_type": "code",
   "execution_count": 17,
   "metadata": {},
   "outputs": [],
   "source": [
    "df_intros.to_csv(\"C://Users//ALESSANDRO//Desktop//Social Graphs and interactions//project//tagwords.csv\")"
   ]
  },
  {
   "cell_type": "markdown",
   "metadata": {},
   "source": [
    "### Explorative analysis of the tagwords"
   ]
  },
  {
   "cell_type": "code",
   "execution_count": 80,
   "metadata": {},
   "outputs": [
    {
     "data": {
      "image/png": "[encoded data removed]",
      "text/plain": [
       "<Figure size 720x360 with 1 Axes>"
      ]
     },
     "metadata": {
      "needs_background": "light"
     },
     "output_type": "display_data"
    }
   ],
   "source": [
    "# Find the frequency of the tagwords and compute the number of tags having that frwquency\n",
    "n_tags = []\n",
    "\n",
    "for i in l_tags:\n",
    "    n_tags.append(len(i))\n",
    "\n",
    "    \n",
    "elem = []\n",
    "freq = []\n",
    "\n",
    "for e in n_tags:\n",
    "    if e not in elem:\n",
    "        freq.append(n_tags.count(e))\n",
    "        elem.append(e)\n",
    "\n",
    "# Create a dataset with the distribution of the tags for the descriptive statistical analysis\n",
    "tags_distr = pd.DataFrame()\n",
    "\n",
    "tags_distr[\"n_tagwords\"] = elem\n",
    "tags_distr[\"frequency\"] = freq\n",
    "\n",
    "tags_distr.head()\n",
    "\n",
    "import matplotlib.pyplot as plt\n",
    "fig = plt.figure(figsize = (10, 5))\n",
    "plt.bar(tags_distr[\"n_tagwords\"], tags_distr[\"frequency\"])\n",
    "fig.suptitle(\"Frequency distribution of the tags in the corpus\")\n",
    "plt.xlabel(\"number of tagwords\")\n",
    "plt.ylabel(\"pages\")\n",
    "plt.show()"
   ]
  },
  {
   "cell_type": "markdown",
   "metadata": {},
   "source": [
    "The plot shows the distribution of the tagwords in the corpus of the philosopher pages. It can be seen that the most of the philosophers have at leas one tagword. \n",
    "\n",
    "225 philosophers have no tagwords related. The number is acceptable, since they are those philosophers with very short introduction page on Wikipedia. Some of these philosophers are shown in the following list."
   ]
  },
  {
   "cell_type": "code",
   "execution_count": 77,
   "metadata": {},
   "outputs": [
    {
     "data": {
      "text/plain": [
       "1                            Abd_al-Latif_al-Baghdadi.txt\n",
       "10                          Abraham_bar_Hiyya_Ha-Nasi.txt\n",
       "17                                         Adam_Smith.txt\n",
       "27                                      Agostino_Nifo.txt\n",
       "29                                        Akos_Pauler.txt\n",
       "30                                   Aksapada_Gautama.txt\n",
       "59                            Alexander_Bryan_Johnson.txt\n",
       "70                                    Alexandre_Koyre.txt\n",
       "72                                    Alexius_Meinong.txt\n",
       "77                        Alfred_Jules_Émile_Fouillée.txt\n",
       "118    Anthony_Ashley-Cooper,_3rd_Earl_of_Shaftesbury.txt\n",
       "119                                   Anthony_Collins.txt\n",
       "129                                  Antoine_Le_Grand.txt\n",
       "134                                   Antonio_Aliotta.txt\n",
       "135                                     Antonio_Banfi.txt\n",
       "154                                    Aron_Gurwitsch.txt\n",
       "158                              Arthur_Edward_Murphy.txt\n",
       "161                                      Arthur_Prior.txt\n",
       "170                            August_Wilhelm_Rehberg.txt\n",
       "176                                          Averroes.txt\n",
       "Name: philosopher, dtype: object"
      ]
     },
     "execution_count": 77,
     "metadata": {},
     "output_type": "execute_result"
    }
   ],
   "source": [
    "df_intros[df_intros.n_tag == 0][\"philosopher\"].head(20)"
   ]
  },
  {
   "cell_type": "markdown",
   "metadata": {},
   "source": [
    "The following code shows the number of tagwords for each philosopher, ordered from the largest to the smallest."
   ]
  },
  {
   "cell_type": "code",
   "execution_count": 89,
   "metadata": {},
   "outputs": [
    {
     "data": {
      "text/html": [
       "<div>\n",
       "<style scoped>\n",
       "    .dataframe tbody tr th:only-of-type {\n",
       "        vertical-align: middle;\n",
       "    }\n",
       "\n",
       "    .dataframe tbody tr th {\n",
       "        vertical-align: top;\n",
       "    }\n",
       "\n",
       "    .dataframe thead th {\n",
       "        text-align: right;\n",
       "    }\n",
       "</style>\n",
       "<table border=\"1\" class=\"dataframe\">\n",
       "  <thead>\n",
       "    <tr style=\"text-align: right;\">\n",
       "      <th></th>\n",
       "      <th>n_tagwords</th>\n",
       "      <th>frequency</th>\n",
       "    </tr>\n",
       "  </thead>\n",
       "  <tbody>\n",
       "    <tr>\n",
       "      <th>1</th>\n",
       "      <td>0</td>\n",
       "      <td>225</td>\n",
       "    </tr>\n",
       "    <tr>\n",
       "      <th>8</th>\n",
       "      <td>4</td>\n",
       "      <td>194</td>\n",
       "    </tr>\n",
       "    <tr>\n",
       "      <th>0</th>\n",
       "      <td>2</td>\n",
       "      <td>188</td>\n",
       "    </tr>\n",
       "    <tr>\n",
       "      <th>6</th>\n",
       "      <td>1</td>\n",
       "      <td>155</td>\n",
       "    </tr>\n",
       "    <tr>\n",
       "      <th>3</th>\n",
       "      <td>3</td>\n",
       "      <td>153</td>\n",
       "    </tr>\n",
       "    <tr>\n",
       "      <th>4</th>\n",
       "      <td>5</td>\n",
       "      <td>146</td>\n",
       "    </tr>\n",
       "    <tr>\n",
       "      <th>5</th>\n",
       "      <td>6</td>\n",
       "      <td>142</td>\n",
       "    </tr>\n",
       "    <tr>\n",
       "      <th>7</th>\n",
       "      <td>7</td>\n",
       "      <td>122</td>\n",
       "    </tr>\n",
       "    <tr>\n",
       "      <th>13</th>\n",
       "      <td>8</td>\n",
       "      <td>91</td>\n",
       "    </tr>\n",
       "    <tr>\n",
       "      <th>9</th>\n",
       "      <td>10</td>\n",
       "      <td>73</td>\n",
       "    </tr>\n",
       "  </tbody>\n",
       "</table>\n",
       "</div>"
      ],
      "text/plain": [
       "    n_tagwords  frequency\n",
       "1            0        225\n",
       "8            4        194\n",
       "0            2        188\n",
       "6            1        155\n",
       "3            3        153\n",
       "4            5        146\n",
       "5            6        142\n",
       "7            7        122\n",
       "13           8         91\n",
       "9           10         73"
      ]
     },
     "execution_count": 89,
     "metadata": {},
     "output_type": "execute_result"
    }
   ],
   "source": [
    "tags_distr.sort_values(\"frequency\", ascending=False).head(10)"
   ]
  },
  {
   "cell_type": "markdown",
   "metadata": {},
   "source": [
    "The largest amount of tags, for one philosopher is displayed below:"
   ]
  },
  {
   "cell_type": "code",
   "execution_count": 96,
   "metadata": {},
   "outputs": [
    {
     "name": "stdout",
     "output_type": "stream",
     "text": [
      "the philosopher with the largest amount of tagwords has  25  words.\n",
      "there are  1 philosophers having  25  tagwords\n"
     ]
    },
    {
     "data": {
      "text/html": [
       "<div>\n",
       "<style scoped>\n",
       "    .dataframe tbody tr th:only-of-type {\n",
       "        vertical-align: middle;\n",
       "    }\n",
       "\n",
       "    .dataframe tbody tr th {\n",
       "        vertical-align: top;\n",
       "    }\n",
       "\n",
       "    .dataframe thead th {\n",
       "        text-align: right;\n",
       "    }\n",
       "</style>\n",
       "<table border=\"1\" class=\"dataframe\">\n",
       "  <thead>\n",
       "    <tr style=\"text-align: right;\">\n",
       "      <th></th>\n",
       "      <th>philosopher</th>\n",
       "      <th>text_clean</th>\n",
       "      <th>tag</th>\n",
       "      <th>n_tag</th>\n",
       "    </tr>\n",
       "  </thead>\n",
       "  <tbody>\n",
       "    <tr>\n",
       "      <th>459</th>\n",
       "      <td>Felix_Ravaisson-Mollien.txt</td>\n",
       "      <td>france influential second half nineteenth century originally remains commonly known félix ravaisson seminal key work l’habitude translated habit ravaissons tradition spiritualism initiated pierre maine biran essay influence habit faculty thinking ravaisson developed doctrine called ‘spiritualist realism’ ‘spiritualist positivism’ according ravaisson scholar mark sinclair thought founding school contingency known influential successor henri bergson tradition seen end 1930s lineage life seen return late twentieth century gilles deleuze ravaisson worked state university late 20 declining position university rennes 1838 employed principle private secretary minister public instruction going secure highranking position inspector general library curator classical antiquity louvre later life appointed president jury aggregation france position considerable influence ravaisson classicist archivist educational administrator painter exhibiting laché</td>\n",
       "      <td>[known, work, university, school, century, scholar, influential, state, life, later, called, thought, influence, tradition, worked, developed, commonly, public, classical, president, late, essay, minister, doctrine, position]</td>\n",
       "      <td>25</td>\n",
       "    </tr>\n",
       "  </tbody>\n",
       "</table>\n",
       "</div>"
      ],
      "text/plain": [
       "                     philosopher  \\\n",
       "459  Felix_Ravaisson-Mollien.txt   \n",
       "\n",
       "                                                                                                                                                                                                                                                                                                                                                                                                                                                                                                                                                                                                                                                                                                                                                                                                                                                                                                                                                                                   text_clean  \\\n",
       "459  france influential second half nineteenth century originally remains commonly known félix ravaisson seminal key work l’habitude translated habit ravaissons tradition spiritualism initiated pierre maine biran essay influence habit faculty thinking ravaisson developed doctrine called ‘spiritualist realism’ ‘spiritualist positivism’ according ravaisson scholar mark sinclair thought founding school contingency known influential successor henri bergson tradition seen end 1930s lineage life seen return late twentieth century gilles deleuze ravaisson worked state university late 20 declining position university rennes 1838 employed principle private secretary minister public instruction going secure highranking position inspector general library curator classical antiquity louvre later life appointed president jury aggregation france position considerable influence ravaisson classicist archivist educational administrator painter exhibiting laché   \n",
       "\n",
       "                                                                                                                                                                                                                                   tag  \\\n",
       "459  [known, work, university, school, century, scholar, influential, state, life, later, called, thought, influence, tradition, worked, developed, commonly, public, classical, president, late, essay, minister, doctrine, position]   \n",
       "\n",
       "     n_tag  \n",
       "459     25  "
      ]
     },
     "execution_count": 96,
     "metadata": {},
     "output_type": "execute_result"
    }
   ],
   "source": [
    "print(\"the philosopher with the largest amount of tagwords has \", max(elem), \" words.\")\n",
    "\n",
    "print(\"there are \", tags_distr[tags_distr.n_tagwords == 25].shape[0], \"philosophers having \", max(elem), \" tagwords\")\n",
    "\n",
    "df_intros[df_intros.n_tag == 25][[\"philosopher\", \"text_clean\", \"tag\", \"n_tag\"]].head(20)"
   ]
  },
  {
   "cell_type": "markdown",
   "metadata": {},
   "source": [
    "## 5. Scraping of topics and fields of research of philosophers"
   ]
  },
  {
   "cell_type": "markdown",
   "metadata": {},
   "source": [
    "Topics and categories from philosophers have also been scraped from the wikipedia pages of the philosophers. The Data processing is in the file where the analysis of the categories is computed. The file is called `Final_quotes_notebook.ipynb` that can be found in the [GitHub repository](https://github.com/aristofanischionis/PhilosophersPageNotebook)."
   ]
  },
  {
   "cell_type": "markdown",
   "metadata": {},
   "source": [
    "## 6. scraping of instagram pages of philosophers"
   ]
  },
  {
   "cell_type": "code",
   "execution_count": null,
   "metadata": {
    "id": "aZhoKjnMfTzv"
   },
   "outputs": [],
   "source": [
    "!apt-get update\n",
    "!pip install selenium"
   ]
  },
  {
   "cell_type": "code",
   "execution_count": null,
   "metadata": {
    "id": "zpOcGXlceWqC"
   },
   "outputs": [],
   "source": [
    "#imports here\n",
    "from selenium import webdriver\n",
    "from selenium.webdriver.common.keys import Keys\n",
    "from selenium.webdriver.support import expected_conditions as EC\n",
    "from selenium.webdriver.common.by import By\n",
    "from selenium.webdriver.support.wait import WebDriverWait\n",
    "import time\n",
    "import os"
   ]
  },
  {
   "cell_type": "markdown",
   "metadata": {
    "id": "YoXnXcWveWqD"
   },
   "source": [
    "### Download ChromeDriver\n",
    "Now we need to download latest stable release of ChromeDriver from:\n",
    "<br>\n",
    "https://chromedriver.chromium.org/\n",
    "<br>\n",
    "### Log In to Your Instagram Account"
   ]
  },
  {
   "cell_type": "code",
   "execution_count": null,
   "metadata": {
    "id": "kmTCwsnAeWqD"
   },
   "outputs": [],
   "source": [
    "#specify the path to chromedriver.exe (download and save on your computer)\n",
    "driver = webdriver.Chrome(\"./chromedriver\")\n",
    "\n",
    "#open the webpage\n",
    "driver.get(\"https://www.instagram.com/\")\n",
    "\n",
    "#  first click the accept all cookies\n",
    "cookies_click = WebDriverWait(driver, 5).until(EC.element_to_be_clickable((By.XPATH, '//button[contains(text(), \"Accept All\")]'))).click()\n",
    "\n",
    "# #target username\n",
    "username = WebDriverWait(driver, 10).until(EC.element_to_be_clickable((By.CSS_SELECTOR, \"input[name='username']\")))\n",
    "password = WebDriverWait(driver, 10).until(EC.element_to_be_clickable((By.CSS_SELECTOR, \"input[name='password']\")))\n",
    "\n",
    "# #enter username and password\n",
    "username.clear()\n",
    "# insert your test username for instagram to be used for the scrapping\n",
    "username.send_keys(\"...\")\n",
    "password.clear()\n",
    "# insert your test password for instagram to be used for the scrapping\n",
    "password.send_keys(\"...\")\n",
    "\n",
    "#target the login button and click it\n",
    "button = WebDriverWait(driver, 2).until(EC.element_to_be_clickable((By.CSS_SELECTOR, \"button[type='submit']\"))).click()\n",
    "\n",
    "#We are logged in!"
   ]
  },
  {
   "cell_type": "code",
   "execution_count": null,
   "metadata": {
    "id": "hMR2OmD3eWqE"
   },
   "outputs": [],
   "source": [
    "# array of quotes to search 15 now, could be more if needed\n",
    "array = [\n",
    "        '#philosophers',\n",
    "         '#philosophy',\n",
    "         '#philosophical',\n",
    "         '#quote', \n",
    "         '#quotes', \n",
    "         '#motivationalquotes', \n",
    "         '#motivational', \n",
    "         '#lovequotes', \n",
    "         '#quoteoftheday', \n",
    "         '#quotestoliveby', \n",
    "         '#quotestagram', \n",
    "         '#quotesdaily',\n",
    "         '#quotesaboutlife',\n",
    "         '#quotesandsayings',\n",
    "         '#philosophersquotes',\n",
    "        ]"
   ]
  },
  {
   "cell_type": "markdown",
   "metadata": {
    "id": "st_gf3NReWqE"
   },
   "source": [
    "### Handle Alerts\n",
    "\n",
    "you might only get a single alert, or you might get 2 of them\n",
    "<br>\n",
    "please adjust the cell below accordingly"
   ]
  },
  {
   "cell_type": "code",
   "execution_count": null,
   "metadata": {
    "id": "8ugmqCt4eWqE"
   },
   "outputs": [],
   "source": [
    "# time.sleep(5)\n",
    "# alert = WebDriverWait(driver, 15).until(EC.element_to_be_clickable((By.XPATH, '//button[contains(text(), \"Not Now\")]'))).click()\n",
    "# alert2 = WebDriverWait(driver, 15).until(EC.element_to_be_clickable((By.XPATH, '//button[contains(text(), \"Not Now\")]'))).click()"
   ]
  },
  {
   "cell_type": "markdown",
   "metadata": {
    "id": "y44IUGfBeWqF"
   },
   "source": [
    "### Search for a certain hashtag"
   ]
  },
  {
   "cell_type": "code",
   "execution_count": null,
   "metadata": {
    "id": "0j0uRh_ReWqF"
   },
   "outputs": [],
   "source": [
    "# 2 scrolls cover approx. 35 photos\n",
    "# 3 scrolls cover approx. 45 photos\n",
    "path = os.getcwd()\n",
    "path = os.path.join(path, 'ScrappingInstagramResultsv2/')\n",
    "if os.path.isdir(path) == False:\n",
    "    os.mkdir(path)\n",
    "\n",
    "def search_hashtag(keyword):\n",
    "    #target the search input field\n",
    "    searchbox = WebDriverWait(driver, 10).until(EC.element_to_be_clickable((By.XPATH, \"//input[@placeholder='Search']\")))\n",
    "    searchbox.clear()\n",
    "\n",
    "    searchbox.send_keys(keyword)\n",
    "\n",
    "    #FIXING THE DOUBLE ENTER\n",
    "    time.sleep(5) # Wait for 5 seconds\n",
    "    my_link = WebDriverWait(driver, 10).until(EC.element_to_be_clickable((By.XPATH, \"//a[contains(@href, '/\" + keyword[1:] + \"/')]\")))\n",
    "    my_link.click()\n",
    "    #increase the range to sroll more\n",
    "    n_scrolls = 1\n",
    "    for j in range(0, n_scrolls):\n",
    "        driver.execute_script(\"window.scrollTo(0, document.body.scrollHeight);\")\n",
    "        time.sleep(15)\n",
    "    #target all the link elements on the page\n",
    "    \n",
    "    # try to do it better by extracting the text from images and saving it in a csv as text. Extract it with a regex, the photos have: \"this photo may be a text bla bla, so extract this info only and save it in csv\"    \n",
    "    anchors = driver.find_elements_by_tag_name('a')\n",
    "    anchors = [a.get_attribute('href') for a in anchors]\n",
    "    #narrow down all links to image links only\n",
    "    anchors = [a for a in anchors if str(a).startswith(\"https://www.instagram.com/p/\")]\n",
    "\n",
    "    print('Found ' + str(len(anchors)) + ' links to images')\n",
    "    \n",
    "    images = []\n",
    "\n",
    "    #follow each image link and extract only image at index=1\n",
    "    for a in anchors:\n",
    "        driver.get(a)\n",
    "        time.sleep(4)\n",
    "        img = driver.find_elements_by_tag_name('img')\n",
    "        img = [i.get_attribute('alt') for i in img]\n",
    "        images.append(img[0])\n",
    "    \n",
    "    \n",
    "    filename = path + keyword[1:] + \".txt\"\n",
    "    f = open(filename, \"w\") \n",
    "\n",
    "    for image in images:\n",
    "        f.write(str(image))\n",
    "        f.write('\\n')\n",
    "\n",
    "    f.close()\n",
    "\n",
    "    print(\"Finished quotes for\" + quote)"
   ]
  },
  {
   "cell_type": "code",
   "execution_count": null,
   "metadata": {
    "id": "JJl2JAEfeWqG"
   },
   "outputs": [],
   "source": [
    "# import wget\n",
    "for quote in array:\n",
    "    search_hashtag(quote)"
   ]
  }
 ],
 "metadata": {
  "kernelspec": {
   "display_name": "Python 3",
   "language": "python",
   "name": "python3"
  },
  "language_info": {
   "codemirror_mode": {
    "name": "ipython",
    "version": 3
   },
   "file_extension": ".py",
   "mimetype": "text/x-python",
   "name": "python",
   "nbconvert_exporter": "python",
   "pygments_lexer": "ipython3",
   "version": "3.8.3"
  }
 },
 "nbformat": 4,
 "nbformat_minor": 4
}
